{
 "cells": [
  {
   "cell_type": "markdown",
   "id": "95017e79",
   "metadata": {},
   "source": [
    "# Import Libraries"
   ]
  },
  {
   "cell_type": "code",
   "execution_count": 1,
   "id": "eab0d771",
   "metadata": {},
   "outputs": [],
   "source": [
    "#Import Libraries\n",
    "import pandas as pd\n",
    "import matplotlib.pyplot as plt\n",
    "import numpy as np\n",
    "from sklearn.preprocessing import MinMaxScaler\n",
    "from sklearn.model_selection import train_test_split    \n",
    "import plotly.express as px\n",
    "from statsmodels.tsa.stattools import adfuller\n",
    "from statsmodels.tsa.arima.model import ARIMA\n",
    "from matplotlib import pyplot as plt\n",
    "import numpy as np\n",
    "import seaborn as sns"
   ]
  },
  {
   "cell_type": "markdown",
   "id": "a9bed330",
   "metadata": {},
   "source": [
    "# Import & Explore Data"
   ]
  },
  {
   "cell_type": "code",
   "execution_count": 2,
   "id": "a8ed4ed2",
   "metadata": {},
   "outputs": [],
   "source": [
    "df = pd.read_csv('Time series Dataset.csv',  parse_dates=True, index_col='Date')"
   ]
  },
  {
   "cell_type": "code",
   "execution_count": 3,
   "id": "63ea3cb2",
   "metadata": {},
   "outputs": [
    {
     "data": {
      "text/html": [
       "<div>\n",
       "<style scoped>\n",
       "    .dataframe tbody tr th:only-of-type {\n",
       "        vertical-align: middle;\n",
       "    }\n",
       "\n",
       "    .dataframe tbody tr th {\n",
       "        vertical-align: top;\n",
       "    }\n",
       "\n",
       "    .dataframe thead th {\n",
       "        text-align: right;\n",
       "    }\n",
       "</style>\n",
       "<table border=\"1\" class=\"dataframe\">\n",
       "  <thead>\n",
       "    <tr style=\"text-align: right;\">\n",
       "      <th></th>\n",
       "      <th>Price</th>\n",
       "      <th>Open</th>\n",
       "      <th>Differnece</th>\n",
       "      <th>Close</th>\n",
       "      <th>High</th>\n",
       "      <th>Low</th>\n",
       "      <th>Vol</th>\n",
       "      <th>Change %</th>\n",
       "    </tr>\n",
       "    <tr>\n",
       "      <th>Date</th>\n",
       "      <th></th>\n",
       "      <th></th>\n",
       "      <th></th>\n",
       "      <th></th>\n",
       "      <th></th>\n",
       "      <th></th>\n",
       "      <th></th>\n",
       "      <th></th>\n",
       "    </tr>\n",
       "  </thead>\n",
       "  <tbody>\n",
       "    <tr>\n",
       "      <th>2024-03-30</th>\n",
       "      <td>70,126.60</td>\n",
       "      <td>69,872.30</td>\n",
       "      <td>251.54</td>\n",
       "      <td>70,123.84</td>\n",
       "      <td>70,321.20</td>\n",
       "      <td>69,736.10</td>\n",
       "      <td>46160</td>\n",
       "      <td>0.36%</td>\n",
       "    </tr>\n",
       "    <tr>\n",
       "      <th>2024-03-29</th>\n",
       "      <td>69,871.70</td>\n",
       "      <td>70,766.70</td>\n",
       "      <td>-891.66</td>\n",
       "      <td>69,875.04</td>\n",
       "      <td>70,907.00</td>\n",
       "      <td>69,090.90</td>\n",
       "      <td>58990</td>\n",
       "      <td>-1.26%</td>\n",
       "    </tr>\n",
       "    <tr>\n",
       "      <th>2024-03-28</th>\n",
       "      <td>70,762.10</td>\n",
       "      <td>69,449.40</td>\n",
       "      <td>1,319.54</td>\n",
       "      <td>70,768.94</td>\n",
       "      <td>71,542.50</td>\n",
       "      <td>68,956.90</td>\n",
       "      <td>72490</td>\n",
       "      <td>1.90%</td>\n",
       "    </tr>\n",
       "    <tr>\n",
       "      <th>2024-03-27</th>\n",
       "      <td>69,442.40</td>\n",
       "      <td>69,999.20</td>\n",
       "      <td>-559.99</td>\n",
       "      <td>69,439.21</td>\n",
       "      <td>71,670.80</td>\n",
       "      <td>68,428.60</td>\n",
       "      <td>112880</td>\n",
       "      <td>-0.80%</td>\n",
       "    </tr>\n",
       "    <tr>\n",
       "      <th>2024-03-26</th>\n",
       "      <td>69,999.30</td>\n",
       "      <td>69,896.30</td>\n",
       "      <td>104.84</td>\n",
       "      <td>70,001.14</td>\n",
       "      <td>71,490.70</td>\n",
       "      <td>69,366.40</td>\n",
       "      <td>90980</td>\n",
       "      <td>0.15%</td>\n",
       "    </tr>\n",
       "    <tr>\n",
       "      <th>...</th>\n",
       "      <td>...</td>\n",
       "      <td>...</td>\n",
       "      <td>...</td>\n",
       "      <td>...</td>\n",
       "      <td>...</td>\n",
       "      <td>...</td>\n",
       "      <td>...</td>\n",
       "      <td>...</td>\n",
       "    </tr>\n",
       "    <tr>\n",
       "      <th>2010-07-22</th>\n",
       "      <td>0.1</td>\n",
       "      <td>0.1</td>\n",
       "      <td>0</td>\n",
       "      <td>0.1</td>\n",
       "      <td>0.1</td>\n",
       "      <td>0.1</td>\n",
       "      <td>2160</td>\n",
       "      <td>0.00%</td>\n",
       "    </tr>\n",
       "    <tr>\n",
       "      <th>2010-07-21</th>\n",
       "      <td>0.1</td>\n",
       "      <td>0.1</td>\n",
       "      <td>0</td>\n",
       "      <td>0.1</td>\n",
       "      <td>0.1</td>\n",
       "      <td>0.1</td>\n",
       "      <td>580</td>\n",
       "      <td>0.00%</td>\n",
       "    </tr>\n",
       "    <tr>\n",
       "      <th>2010-07-20</th>\n",
       "      <td>0.1</td>\n",
       "      <td>0.1</td>\n",
       "      <td>0</td>\n",
       "      <td>0.1</td>\n",
       "      <td>0.1</td>\n",
       "      <td>0.1</td>\n",
       "      <td>260</td>\n",
       "      <td>0.00%</td>\n",
       "    </tr>\n",
       "    <tr>\n",
       "      <th>2010-07-19</th>\n",
       "      <td>0.1</td>\n",
       "      <td>0.1</td>\n",
       "      <td>0</td>\n",
       "      <td>0.1</td>\n",
       "      <td>0.1</td>\n",
       "      <td>0.1</td>\n",
       "      <td>570</td>\n",
       "      <td>0.00%</td>\n",
       "    </tr>\n",
       "    <tr>\n",
       "      <th>2010-07-18</th>\n",
       "      <td>0.1</td>\n",
       "      <td>0</td>\n",
       "      <td>0</td>\n",
       "      <td>0</td>\n",
       "      <td>0.1</td>\n",
       "      <td>0.1</td>\n",
       "      <td>80</td>\n",
       "      <td>0.00%</td>\n",
       "    </tr>\n",
       "  </tbody>\n",
       "</table>\n",
       "<p>5005 rows × 8 columns</p>\n",
       "</div>"
      ],
      "text/plain": [
       "                Price       Open Differnece      Close       High        Low  \\\n",
       "Date                                                                           \n",
       "2024-03-30  70,126.60  69,872.30     251.54  70,123.84  70,321.20  69,736.10   \n",
       "2024-03-29  69,871.70  70,766.70    -891.66  69,875.04  70,907.00  69,090.90   \n",
       "2024-03-28  70,762.10  69,449.40   1,319.54  70,768.94  71,542.50  68,956.90   \n",
       "2024-03-27  69,442.40  69,999.20    -559.99  69,439.21  71,670.80  68,428.60   \n",
       "2024-03-26  69,999.30  69,896.30     104.84  70,001.14  71,490.70  69,366.40   \n",
       "...               ...        ...        ...        ...        ...        ...   \n",
       "2010-07-22        0.1        0.1          0        0.1        0.1        0.1   \n",
       "2010-07-21        0.1        0.1          0        0.1        0.1        0.1   \n",
       "2010-07-20        0.1        0.1          0        0.1        0.1        0.1   \n",
       "2010-07-19        0.1        0.1          0        0.1        0.1        0.1   \n",
       "2010-07-18        0.1          0          0          0        0.1        0.1   \n",
       "\n",
       "               Vol Change %  \n",
       "Date                         \n",
       "2024-03-30   46160    0.36%  \n",
       "2024-03-29   58990   -1.26%  \n",
       "2024-03-28   72490    1.90%  \n",
       "2024-03-27  112880   -0.80%  \n",
       "2024-03-26   90980    0.15%  \n",
       "...            ...      ...  \n",
       "2010-07-22    2160    0.00%  \n",
       "2010-07-21     580    0.00%  \n",
       "2010-07-20     260    0.00%  \n",
       "2010-07-19     570    0.00%  \n",
       "2010-07-18      80    0.00%  \n",
       "\n",
       "[5005 rows x 8 columns]"
      ]
     },
     "execution_count": 3,
     "metadata": {},
     "output_type": "execute_result"
    }
   ],
   "source": [
    "df"
   ]
  },
  {
   "cell_type": "code",
   "execution_count": 4,
   "id": "f01a85d4",
   "metadata": {},
   "outputs": [],
   "source": [
    "\n",
    "df.sort_index(inplace=True)"
   ]
  },
  {
   "cell_type": "code",
   "execution_count": 5,
   "id": "bc69331f",
   "metadata": {},
   "outputs": [
    {
     "data": {
      "text/plain": [
       "(5005, 8)"
      ]
     },
     "execution_count": 5,
     "metadata": {},
     "output_type": "execute_result"
    }
   ],
   "source": [
    "df.shape"
   ]
  },
  {
   "cell_type": "code",
   "execution_count": 6,
   "id": "893f8c13",
   "metadata": {},
   "outputs": [
    {
     "data": {
      "text/plain": [
       "Index(['Price', 'Open', 'Differnece', 'Close', 'High', 'Low', 'Vol',\n",
       "       'Change %'],\n",
       "      dtype='object')"
      ]
     },
     "execution_count": 6,
     "metadata": {},
     "output_type": "execute_result"
    }
   ],
   "source": [
    "df.columns"
   ]
  },
  {
   "cell_type": "code",
   "execution_count": 7,
   "id": "1383445a",
   "metadata": {},
   "outputs": [
    {
     "name": "stdout",
     "output_type": "stream",
     "text": [
      "<class 'pandas.core.frame.DataFrame'>\n",
      "DatetimeIndex: 5005 entries, 2010-07-18 to 2024-03-30\n",
      "Data columns (total 8 columns):\n",
      " #   Column      Non-Null Count  Dtype \n",
      "---  ------      --------------  ----- \n",
      " 0   Price       5005 non-null   object\n",
      " 1   Open        5005 non-null   object\n",
      " 2   Differnece  5005 non-null   object\n",
      " 3   Close       5005 non-null   object\n",
      " 4   High        5005 non-null   object\n",
      " 5   Low         5005 non-null   object\n",
      " 6   Vol         5005 non-null   int64 \n",
      " 7   Change %    5005 non-null   object\n",
      "dtypes: int64(1), object(7)\n",
      "memory usage: 351.9+ KB\n"
     ]
    }
   ],
   "source": [
    "df.info()"
   ]
  },
  {
   "cell_type": "markdown",
   "id": "dc532914",
   "metadata": {},
   "source": [
    "# Data Preprocessing"
   ]
  },
  {
   "cell_type": "code",
   "execution_count": 8,
   "id": "64258053",
   "metadata": {},
   "outputs": [],
   "source": [
    "df[\"Price\"] = df[\"Price\"].str.replace(',','').astype('float64')\n",
    "df[\"Open\"] = df[\"Open\"].str.replace(',','').astype('float64')\n",
    "df[\"High\"] = df[\"High\"].str.replace(',','').astype('float64')\n",
    "df[\"Low\"] = df[\"Low\"].str.replace(',','').astype('float64')\n",
    "df[\"Close\"] = df[\"Close\"].str.replace(',','').astype('float64')"
   ]
  },
  {
   "cell_type": "code",
   "execution_count": 9,
   "id": "ef061809",
   "metadata": {},
   "outputs": [
    {
     "data": {
      "text/html": [
       "<div>\n",
       "<style scoped>\n",
       "    .dataframe tbody tr th:only-of-type {\n",
       "        vertical-align: middle;\n",
       "    }\n",
       "\n",
       "    .dataframe tbody tr th {\n",
       "        vertical-align: top;\n",
       "    }\n",
       "\n",
       "    .dataframe thead th {\n",
       "        text-align: right;\n",
       "    }\n",
       "</style>\n",
       "<table border=\"1\" class=\"dataframe\">\n",
       "  <thead>\n",
       "    <tr style=\"text-align: right;\">\n",
       "      <th></th>\n",
       "      <th>Price</th>\n",
       "      <th>Open</th>\n",
       "      <th>Close</th>\n",
       "      <th>High</th>\n",
       "      <th>Low</th>\n",
       "      <th>Vol</th>\n",
       "    </tr>\n",
       "  </thead>\n",
       "  <tbody>\n",
       "    <tr>\n",
       "      <th>count</th>\n",
       "      <td>5005.000000</td>\n",
       "      <td>5005.000000</td>\n",
       "      <td>5005.000000</td>\n",
       "      <td>5005.000000</td>\n",
       "      <td>5005.000000</td>\n",
       "      <td>5.005000e+03</td>\n",
       "    </tr>\n",
       "    <tr>\n",
       "      <th>mean</th>\n",
       "      <td>10883.350809</td>\n",
       "      <td>10869.312807</td>\n",
       "      <td>10883.427359</td>\n",
       "      <td>11139.464515</td>\n",
       "      <td>10581.619041</td>\n",
       "      <td>1.234727e+07</td>\n",
       "    </tr>\n",
       "    <tr>\n",
       "      <th>std</th>\n",
       "      <td>16014.453354</td>\n",
       "      <td>15993.002080</td>\n",
       "      <td>16014.561714</td>\n",
       "      <td>16393.299029</td>\n",
       "      <td>15566.401227</td>\n",
       "      <td>1.547973e+08</td>\n",
       "    </tr>\n",
       "    <tr>\n",
       "      <th>min</th>\n",
       "      <td>0.100000</td>\n",
       "      <td>0.000000</td>\n",
       "      <td>0.000000</td>\n",
       "      <td>0.100000</td>\n",
       "      <td>0.000000</td>\n",
       "      <td>0.000000e+00</td>\n",
       "    </tr>\n",
       "    <tr>\n",
       "      <th>25%</th>\n",
       "      <td>227.200000</td>\n",
       "      <td>226.800000</td>\n",
       "      <td>227.210000</td>\n",
       "      <td>231.600000</td>\n",
       "      <td>222.000000</td>\n",
       "      <td>3.172000e+04</td>\n",
       "    </tr>\n",
       "    <tr>\n",
       "      <th>50%</th>\n",
       "      <td>2052.400000</td>\n",
       "      <td>2044.200000</td>\n",
       "      <td>2052.510000</td>\n",
       "      <td>2237.100000</td>\n",
       "      <td>1974.000000</td>\n",
       "      <td>6.874000e+04</td>\n",
       "    </tr>\n",
       "    <tr>\n",
       "      <th>75%</th>\n",
       "      <td>15695.800000</td>\n",
       "      <td>15632.100000</td>\n",
       "      <td>15694.860000</td>\n",
       "      <td>16287.900000</td>\n",
       "      <td>14832.400000</td>\n",
       "      <td>1.847200e+05</td>\n",
       "    </tr>\n",
       "    <tr>\n",
       "      <th>max</th>\n",
       "      <td>73066.300000</td>\n",
       "      <td>73066.700000</td>\n",
       "      <td>73055.500000</td>\n",
       "      <td>73740.900000</td>\n",
       "      <td>71338.400000</td>\n",
       "      <td>4.470000e+09</td>\n",
       "    </tr>\n",
       "  </tbody>\n",
       "</table>\n",
       "</div>"
      ],
      "text/plain": [
       "              Price          Open         Close          High           Low  \\\n",
       "count   5005.000000   5005.000000   5005.000000   5005.000000   5005.000000   \n",
       "mean   10883.350809  10869.312807  10883.427359  11139.464515  10581.619041   \n",
       "std    16014.453354  15993.002080  16014.561714  16393.299029  15566.401227   \n",
       "min        0.100000      0.000000      0.000000      0.100000      0.000000   \n",
       "25%      227.200000    226.800000    227.210000    231.600000    222.000000   \n",
       "50%     2052.400000   2044.200000   2052.510000   2237.100000   1974.000000   \n",
       "75%    15695.800000  15632.100000  15694.860000  16287.900000  14832.400000   \n",
       "max    73066.300000  73066.700000  73055.500000  73740.900000  71338.400000   \n",
       "\n",
       "                Vol  \n",
       "count  5.005000e+03  \n",
       "mean   1.234727e+07  \n",
       "std    1.547973e+08  \n",
       "min    0.000000e+00  \n",
       "25%    3.172000e+04  \n",
       "50%    6.874000e+04  \n",
       "75%    1.847200e+05  \n",
       "max    4.470000e+09  "
      ]
     },
     "execution_count": 9,
     "metadata": {},
     "output_type": "execute_result"
    }
   ],
   "source": [
    "df.describe()"
   ]
  },
  {
   "cell_type": "code",
   "execution_count": 10,
   "id": "7a736e21",
   "metadata": {},
   "outputs": [
    {
     "data": {
      "text/html": [
       "<div>\n",
       "<style scoped>\n",
       "    .dataframe tbody tr th:only-of-type {\n",
       "        vertical-align: middle;\n",
       "    }\n",
       "\n",
       "    .dataframe tbody tr th {\n",
       "        vertical-align: top;\n",
       "    }\n",
       "\n",
       "    .dataframe thead th {\n",
       "        text-align: right;\n",
       "    }\n",
       "</style>\n",
       "<table border=\"1\" class=\"dataframe\">\n",
       "  <thead>\n",
       "    <tr style=\"text-align: right;\">\n",
       "      <th></th>\n",
       "      <th>Price</th>\n",
       "      <th>Open</th>\n",
       "      <th>Differnece</th>\n",
       "      <th>Close</th>\n",
       "      <th>High</th>\n",
       "      <th>Low</th>\n",
       "      <th>Vol</th>\n",
       "      <th>Change %</th>\n",
       "    </tr>\n",
       "    <tr>\n",
       "      <th>Date</th>\n",
       "      <th></th>\n",
       "      <th></th>\n",
       "      <th></th>\n",
       "      <th></th>\n",
       "      <th></th>\n",
       "      <th></th>\n",
       "      <th></th>\n",
       "      <th></th>\n",
       "    </tr>\n",
       "  </thead>\n",
       "  <tbody>\n",
       "    <tr>\n",
       "      <th>2010-07-18</th>\n",
       "      <td>False</td>\n",
       "      <td>False</td>\n",
       "      <td>False</td>\n",
       "      <td>False</td>\n",
       "      <td>False</td>\n",
       "      <td>False</td>\n",
       "      <td>False</td>\n",
       "      <td>False</td>\n",
       "    </tr>\n",
       "    <tr>\n",
       "      <th>2010-07-19</th>\n",
       "      <td>False</td>\n",
       "      <td>False</td>\n",
       "      <td>False</td>\n",
       "      <td>False</td>\n",
       "      <td>False</td>\n",
       "      <td>False</td>\n",
       "      <td>False</td>\n",
       "      <td>False</td>\n",
       "    </tr>\n",
       "    <tr>\n",
       "      <th>2010-07-20</th>\n",
       "      <td>False</td>\n",
       "      <td>False</td>\n",
       "      <td>False</td>\n",
       "      <td>False</td>\n",
       "      <td>False</td>\n",
       "      <td>False</td>\n",
       "      <td>False</td>\n",
       "      <td>False</td>\n",
       "    </tr>\n",
       "    <tr>\n",
       "      <th>2010-07-21</th>\n",
       "      <td>False</td>\n",
       "      <td>False</td>\n",
       "      <td>False</td>\n",
       "      <td>False</td>\n",
       "      <td>False</td>\n",
       "      <td>False</td>\n",
       "      <td>False</td>\n",
       "      <td>False</td>\n",
       "    </tr>\n",
       "    <tr>\n",
       "      <th>2010-07-22</th>\n",
       "      <td>False</td>\n",
       "      <td>False</td>\n",
       "      <td>False</td>\n",
       "      <td>False</td>\n",
       "      <td>False</td>\n",
       "      <td>False</td>\n",
       "      <td>False</td>\n",
       "      <td>False</td>\n",
       "    </tr>\n",
       "    <tr>\n",
       "      <th>...</th>\n",
       "      <td>...</td>\n",
       "      <td>...</td>\n",
       "      <td>...</td>\n",
       "      <td>...</td>\n",
       "      <td>...</td>\n",
       "      <td>...</td>\n",
       "      <td>...</td>\n",
       "      <td>...</td>\n",
       "    </tr>\n",
       "    <tr>\n",
       "      <th>2024-03-26</th>\n",
       "      <td>False</td>\n",
       "      <td>False</td>\n",
       "      <td>False</td>\n",
       "      <td>False</td>\n",
       "      <td>False</td>\n",
       "      <td>False</td>\n",
       "      <td>False</td>\n",
       "      <td>False</td>\n",
       "    </tr>\n",
       "    <tr>\n",
       "      <th>2024-03-27</th>\n",
       "      <td>False</td>\n",
       "      <td>False</td>\n",
       "      <td>False</td>\n",
       "      <td>False</td>\n",
       "      <td>False</td>\n",
       "      <td>False</td>\n",
       "      <td>False</td>\n",
       "      <td>False</td>\n",
       "    </tr>\n",
       "    <tr>\n",
       "      <th>2024-03-28</th>\n",
       "      <td>False</td>\n",
       "      <td>False</td>\n",
       "      <td>False</td>\n",
       "      <td>False</td>\n",
       "      <td>False</td>\n",
       "      <td>False</td>\n",
       "      <td>False</td>\n",
       "      <td>False</td>\n",
       "    </tr>\n",
       "    <tr>\n",
       "      <th>2024-03-29</th>\n",
       "      <td>False</td>\n",
       "      <td>False</td>\n",
       "      <td>False</td>\n",
       "      <td>False</td>\n",
       "      <td>False</td>\n",
       "      <td>False</td>\n",
       "      <td>False</td>\n",
       "      <td>False</td>\n",
       "    </tr>\n",
       "    <tr>\n",
       "      <th>2024-03-30</th>\n",
       "      <td>False</td>\n",
       "      <td>False</td>\n",
       "      <td>False</td>\n",
       "      <td>False</td>\n",
       "      <td>False</td>\n",
       "      <td>False</td>\n",
       "      <td>False</td>\n",
       "      <td>False</td>\n",
       "    </tr>\n",
       "  </tbody>\n",
       "</table>\n",
       "<p>5005 rows × 8 columns</p>\n",
       "</div>"
      ],
      "text/plain": [
       "            Price   Open  Differnece  Close   High    Low    Vol  Change %\n",
       "Date                                                                      \n",
       "2010-07-18  False  False       False  False  False  False  False     False\n",
       "2010-07-19  False  False       False  False  False  False  False     False\n",
       "2010-07-20  False  False       False  False  False  False  False     False\n",
       "2010-07-21  False  False       False  False  False  False  False     False\n",
       "2010-07-22  False  False       False  False  False  False  False     False\n",
       "...           ...    ...         ...    ...    ...    ...    ...       ...\n",
       "2024-03-26  False  False       False  False  False  False  False     False\n",
       "2024-03-27  False  False       False  False  False  False  False     False\n",
       "2024-03-28  False  False       False  False  False  False  False     False\n",
       "2024-03-29  False  False       False  False  False  False  False     False\n",
       "2024-03-30  False  False       False  False  False  False  False     False\n",
       "\n",
       "[5005 rows x 8 columns]"
      ]
     },
     "execution_count": 10,
     "metadata": {},
     "output_type": "execute_result"
    }
   ],
   "source": [
    "df.isna()"
   ]
  },
  {
   "cell_type": "code",
   "execution_count": 15,
   "id": "6225b41d",
   "metadata": {},
   "outputs": [],
   "source": [
    "first_hundred_rows = df.head(100)  \n",
    "df2 = df.drop(first_hundred_rows.index) "
   ]
  },
  {
   "cell_type": "code",
   "execution_count": 16,
   "id": "14728778",
   "metadata": {},
   "outputs": [],
   "source": [
    "df3 = df2.drop(columns=['Differnece', 'Change %'])"
   ]
  },
  {
   "cell_type": "code",
   "execution_count": 17,
   "id": "d4b18938",
   "metadata": {},
   "outputs": [
    {
     "data": {
      "text/html": [
       "<div>\n",
       "<style scoped>\n",
       "    .dataframe tbody tr th:only-of-type {\n",
       "        vertical-align: middle;\n",
       "    }\n",
       "\n",
       "    .dataframe tbody tr th {\n",
       "        vertical-align: top;\n",
       "    }\n",
       "\n",
       "    .dataframe thead th {\n",
       "        text-align: right;\n",
       "    }\n",
       "</style>\n",
       "<table border=\"1\" class=\"dataframe\">\n",
       "  <thead>\n",
       "    <tr style=\"text-align: right;\">\n",
       "      <th></th>\n",
       "      <th>Price</th>\n",
       "      <th>Open</th>\n",
       "      <th>Close</th>\n",
       "      <th>High</th>\n",
       "      <th>Low</th>\n",
       "      <th>Vol</th>\n",
       "    </tr>\n",
       "    <tr>\n",
       "      <th>Date</th>\n",
       "      <th></th>\n",
       "      <th></th>\n",
       "      <th></th>\n",
       "      <th></th>\n",
       "      <th></th>\n",
       "      <th></th>\n",
       "    </tr>\n",
       "  </thead>\n",
       "  <tbody>\n",
       "    <tr>\n",
       "      <th>2010-10-26</th>\n",
       "      <td>0.2</td>\n",
       "      <td>0.1</td>\n",
       "      <td>0.10</td>\n",
       "      <td>0.2</td>\n",
       "      <td>0.1</td>\n",
       "      <td>19220</td>\n",
       "    </tr>\n",
       "    <tr>\n",
       "      <th>2010-10-27</th>\n",
       "      <td>0.2</td>\n",
       "      <td>0.2</td>\n",
       "      <td>0.20</td>\n",
       "      <td>0.2</td>\n",
       "      <td>0.2</td>\n",
       "      <td>65610</td>\n",
       "    </tr>\n",
       "    <tr>\n",
       "      <th>2010-10-28</th>\n",
       "      <td>0.2</td>\n",
       "      <td>0.2</td>\n",
       "      <td>0.20</td>\n",
       "      <td>0.2</td>\n",
       "      <td>0.2</td>\n",
       "      <td>21530</td>\n",
       "    </tr>\n",
       "    <tr>\n",
       "      <th>2010-10-29</th>\n",
       "      <td>0.2</td>\n",
       "      <td>0.2</td>\n",
       "      <td>0.20</td>\n",
       "      <td>0.2</td>\n",
       "      <td>0.2</td>\n",
       "      <td>28690</td>\n",
       "    </tr>\n",
       "    <tr>\n",
       "      <th>2010-10-30</th>\n",
       "      <td>0.2</td>\n",
       "      <td>0.2</td>\n",
       "      <td>0.20</td>\n",
       "      <td>0.2</td>\n",
       "      <td>0.2</td>\n",
       "      <td>26710</td>\n",
       "    </tr>\n",
       "    <tr>\n",
       "      <th>...</th>\n",
       "      <td>...</td>\n",
       "      <td>...</td>\n",
       "      <td>...</td>\n",
       "      <td>...</td>\n",
       "      <td>...</td>\n",
       "      <td>...</td>\n",
       "    </tr>\n",
       "    <tr>\n",
       "      <th>2024-03-26</th>\n",
       "      <td>69999.3</td>\n",
       "      <td>69896.3</td>\n",
       "      <td>70001.14</td>\n",
       "      <td>71490.7</td>\n",
       "      <td>69366.4</td>\n",
       "      <td>90980</td>\n",
       "    </tr>\n",
       "    <tr>\n",
       "      <th>2024-03-27</th>\n",
       "      <td>69442.4</td>\n",
       "      <td>69999.2</td>\n",
       "      <td>69439.21</td>\n",
       "      <td>71670.8</td>\n",
       "      <td>68428.6</td>\n",
       "      <td>112880</td>\n",
       "    </tr>\n",
       "    <tr>\n",
       "      <th>2024-03-28</th>\n",
       "      <td>70762.1</td>\n",
       "      <td>69449.4</td>\n",
       "      <td>70768.94</td>\n",
       "      <td>71542.5</td>\n",
       "      <td>68956.9</td>\n",
       "      <td>72490</td>\n",
       "    </tr>\n",
       "    <tr>\n",
       "      <th>2024-03-29</th>\n",
       "      <td>69871.7</td>\n",
       "      <td>70766.7</td>\n",
       "      <td>69875.04</td>\n",
       "      <td>70907.0</td>\n",
       "      <td>69090.9</td>\n",
       "      <td>58990</td>\n",
       "    </tr>\n",
       "    <tr>\n",
       "      <th>2024-03-30</th>\n",
       "      <td>70126.6</td>\n",
       "      <td>69872.3</td>\n",
       "      <td>70123.84</td>\n",
       "      <td>70321.2</td>\n",
       "      <td>69736.1</td>\n",
       "      <td>46160</td>\n",
       "    </tr>\n",
       "  </tbody>\n",
       "</table>\n",
       "<p>4905 rows × 6 columns</p>\n",
       "</div>"
      ],
      "text/plain": [
       "              Price     Open     Close     High      Low     Vol\n",
       "Date                                                            \n",
       "2010-10-26      0.2      0.1      0.10      0.2      0.1   19220\n",
       "2010-10-27      0.2      0.2      0.20      0.2      0.2   65610\n",
       "2010-10-28      0.2      0.2      0.20      0.2      0.2   21530\n",
       "2010-10-29      0.2      0.2      0.20      0.2      0.2   28690\n",
       "2010-10-30      0.2      0.2      0.20      0.2      0.2   26710\n",
       "...             ...      ...       ...      ...      ...     ...\n",
       "2024-03-26  69999.3  69896.3  70001.14  71490.7  69366.4   90980\n",
       "2024-03-27  69442.4  69999.2  69439.21  71670.8  68428.6  112880\n",
       "2024-03-28  70762.1  69449.4  70768.94  71542.5  68956.9   72490\n",
       "2024-03-29  69871.7  70766.7  69875.04  70907.0  69090.9   58990\n",
       "2024-03-30  70126.6  69872.3  70123.84  70321.2  69736.1   46160\n",
       "\n",
       "[4905 rows x 6 columns]"
      ]
     },
     "execution_count": 17,
     "metadata": {},
     "output_type": "execute_result"
    }
   ],
   "source": [
    "df3"
   ]
  },
  {
   "cell_type": "code",
   "execution_count": 18,
   "id": "fbd00e98",
   "metadata": {},
   "outputs": [
    {
     "data": {
      "image/png": "[encoded data removed]",
      "text/plain": [
       "<Figure size 600x400 with 1 Axes>"
      ]
     },
     "metadata": {},
     "output_type": "display_data"
    },
    {
     "data": {
      "image/png": "[encoded data removed]",
      "text/plain": [
       "<Figure size 600x400 with 1 Axes>"
      ]
     },
     "metadata": {},
     "output_type": "display_data"
    }
   ],
   "source": [
    "\n",
    "# Create a boxplot\n",
    "plt.figure(figsize=(6, 4))\n",
    "plt.boxplot(df['Close'])\n",
    "plt.ylabel('Close')\n",
    "plt.title('Boxplot of the Dataset')\n",
    "plt.show()\n",
    "\n",
    "# Calculate outliers using the IQR method\n",
    "Q1 = df3['Close'].quantile(0.25)\n",
    "Q3 = df3['Close'].quantile(0.75)\n",
    "IQR = Q3 - Q1\n",
    "\n",
    "outliers = df3[(df3['Close'] < (Q1 - 1.5 * IQR)) | (df3['Close'] > (Q3 + 1.5 * IQR))]\n",
    "\n",
    "# Reset the index of the outliers DataFrame\n",
    "outliers = outliers.reset_index(drop=True)\n",
    "\n",
    "# Highlight outliers on the boxplot\n",
    "plt.figure(figsize=(6, 4))\n",
    "plt.boxplot(df3['Close'])\n",
    "plt.plot(outliers.index + 1, outliers['Close'], 'ro', label='Outliers')\n",
    "plt.ylabel('Close')\n",
    "plt.title('Boxplot with Outliers Highlighted')\n",
    "plt.legend()\n",
    "plt.show()"
   ]
  },
  {
   "cell_type": "code",
   "execution_count": 19,
   "id": "1c518b5c",
   "metadata": {},
   "outputs": [],
   "source": [
    "# Assuming your data is in a NumPy array called 'data'\n",
    "# Calculate quartiles\n",
    "q1 = np.percentile(df3, 25)\n",
    "q3 = np.percentile(df3, 75)\n",
    "\n",
    "# Calculate IQR\n",
    "iqr = q3 - q1\n",
    "\n",
    "# Define outlier thresholds based on IQR (e.g., 1.5 times IQR)\n",
    "lower_bound = q1 - 1.5 * iqr\n",
    "upper_bound = q3 + 1.5 * iqr\n",
    "\n",
    "# Identify outliers\n",
    "outlier_indices = (df3 < lower_bound) | (df3 > upper_bound)\n",
    "\n",
    "# Create a new array excluding outliers\n",
    "data = df3[~outlier_indices]"
   ]
  },
  {
   "cell_type": "code",
   "execution_count": 20,
   "id": "a7c1ad0f",
   "metadata": {},
   "outputs": [],
   "source": [
    "data.dropna(inplace=True) "
   ]
  },
  {
   "cell_type": "code",
   "execution_count": 21,
   "id": "dbf8a1d4",
   "metadata": {},
   "outputs": [
    {
     "name": "stdout",
     "output_type": "stream",
     "text": [
      "Data Duplicatioin\n",
      "------------------------------\n",
      "10\n"
     ]
    }
   ],
   "source": [
    "print (\"Data Duplicatioin\")\n",
    "print (\"-\"*30)\n",
    "print(data.duplicated(keep=False).sum())\n"
   ]
  },
  {
   "cell_type": "code",
   "execution_count": 22,
   "id": "d9af25f1",
   "metadata": {},
   "outputs": [],
   "source": [
    "data = data.drop_duplicates(subset=['Price', 'Open', 'Close', 'High', 'Low', 'Vol'])"
   ]
  },
  {
   "cell_type": "markdown",
   "id": "2625705c",
   "metadata": {},
   "source": [
    "# Visualisation"
   ]
  },
  {
   "cell_type": "code",
   "execution_count": 23,
   "id": "31504dfe",
   "metadata": {},
   "outputs": [],
   "source": [
    "def plotting(title, data, x, y, x_label, y_label):\n",
    "    fig = px.line(data, x=data[x], y=data[y], labels={x: x_label, y: y_label})\n",
    "\n",
    "    fig.update_layout(template=\"simple_white\", font=dict(size=18),\n",
    "                      title_text=title, width=650,\n",
    "                      title_x=0.5, height=400)\n",
    "\n",
    "    fig.show()"
   ]
  },
  {
   "cell_type": "code",
   "execution_count": 24,
   "id": "e88c2392",
   "metadata": {},
   "outputs": [
    {
     "data": {
      "text/plain": [
       "Text(0.5, 1.0, 'Bitcoin Price')"
      ]
     },
     "execution_count": 24,
     "metadata": {},
     "output_type": "execute_result"
    },
    {
     "data": {
      "image/png": "[encoded data removed]",
      "text/plain": [
       "<Figure size 640x480 with 1 Axes>"
      ]
     },
     "metadata": {},
     "output_type": "display_data"
    }
   ],
   "source": [
    "ax=sns.lineplot(data=data, x=data.index, y='Close')\n",
    "ax=sns.lineplot(ax=ax, data=data, x=data.index, y='Price')\n",
    "plt.ylabel('Close')\n",
    "plt.title('Bitcoin Price')"
   ]
  },
  {
   "cell_type": "markdown",
   "id": "1251205b",
   "metadata": {},
   "source": [
    "# PreProcessing"
   ]
  },
  {
   "cell_type": "code",
   "execution_count": 25,
   "id": "d64859e7",
   "metadata": {},
   "outputs": [
    {
     "name": "stdout",
     "output_type": "stream",
     "text": [
      "Date\n",
      "2010-10-26        0.10\n",
      "2010-10-27        0.20\n",
      "2010-10-28        0.20\n",
      "2010-10-29        0.20\n",
      "2010-10-30        0.20\n",
      "                ...   \n",
      "2024-03-23    64040.74\n",
      "2024-03-24    67212.71\n",
      "2024-03-28    70768.94\n",
      "2024-03-29    69875.04\n",
      "2024-03-30    70123.84\n",
      "Name: Close, Length: 2523, dtype: float64\n"
     ]
    }
   ],
   "source": [
    "target_column='Close'\n",
    "print(data[target_column])"
   ]
  },
  {
   "cell_type": "code",
   "execution_count": 26,
   "id": "171d27ff",
   "metadata": {},
   "outputs": [],
   "source": [
    "def check_stationary(timeseries):\n",
    "    adf_test = adfuller(timeseries,1)\n",
    "    #access critical values from the 4th element of the tuple\n",
    "    critical_values = adf_values = adf_test[4]\n",
    "    \n",
    "    print(f\"ADF Statistics: {adf_test[0]:.4f}\")\n",
    "    print(f\"p-value: {adf_test[1]:.4f}\")\n",
    "    print(f\"Critical Values:\")\n",
    "    for key, value in critical_values.items():\n",
    "        print(f\"{key} ({value:4f})\")"
   ]
  },
  {
   "cell_type": "code",
   "execution_count": 27,
   "id": "7c1f5719",
   "metadata": {},
   "outputs": [
    {
     "name": "stdout",
     "output_type": "stream",
     "text": [
      "ADF Statistics: 0.7074\n",
      "p-value: 0.9900\n",
      "Critical Values:\n",
      "1% (-3.432946)\n",
      "5% (-2.862687)\n",
      "10% (-2.567380)\n"
     ]
    }
   ],
   "source": [
    "is_stationary = check_stationary(data[target_column])"
   ]
  },
  {
   "cell_type": "code",
   "execution_count": 28,
   "id": "21b727b5",
   "metadata": {},
   "outputs": [
    {
     "name": "stdout",
     "output_type": "stream",
     "text": [
      "ADF Statistics: -36.8863\n",
      "p-value: 0.0000\n",
      "Critical Values:\n",
      "1% (-3.432948)\n",
      "5% (-2.862688)\n",
      "10% (-2.567381)\n"
     ]
    }
   ],
   "source": [
    "if not is_stationary:\n",
    "    #apply differencing if necessary (may require multiple differencing steps)\n",
    "    differenced_data = data[target_column].diff().dropna()\n",
    "    is_stationary = check_stationary(differenced_data)"
   ]
  },
  {
   "cell_type": "markdown",
   "id": "6d316300",
   "metadata": {},
   "source": [
    "# Data Split"
   ]
  },
  {
   "cell_type": "code",
   "execution_count": 29,
   "id": "26e2dff0",
   "metadata": {},
   "outputs": [],
   "source": [
    "split_index = int(len(data) * 0.8)\n",
    "train_data = data[:split_index]\n",
    "test_data = data[split_index:]\n",
    "train_target = train_data[target_column]\n",
    "test_target = test_data[target_column]"
   ]
  },
  {
   "cell_type": "code",
   "execution_count": 30,
   "id": "0665a23e",
   "metadata": {},
   "outputs": [],
   "source": [
    "# Set frequency to 'D' for daily frequency\n",
    "train_data = train_data.asfreq('D')"
   ]
  },
  {
   "cell_type": "markdown",
   "id": "2409d75e",
   "metadata": {},
   "source": [
    "# ACF & PACF"
   ]
  },
  {
   "cell_type": "code",
   "execution_count": 31,
   "id": "5a679a40",
   "metadata": {},
   "outputs": [],
   "source": [
    "from statsmodels.tsa.stattools import acf, pacf"
   ]
  },
  {
   "cell_type": "code",
   "execution_count": 32,
   "id": "09a45e8a",
   "metadata": {},
   "outputs": [],
   "source": [
    "def plot_acf_pacf(timeseries):\n",
    "    fig, (ax1, ax2) = plt.subplots(2,1,figsize=(10, 6))\n",
    "    \n",
    "    #calculate the ACF and PACF using statsmodels.tsa.stattools\n",
    "    acf_values = acf(timeseries)\n",
    "    pacf_values= pacf(timeseries)\n",
    "    \n",
    "    #crate logs list\n",
    "    lags = np.arange(len(acf_values)) #create logs from 0 to length of ACF/PACF\n",
    "    \n",
    "    #Plot ACF with bars at logs\n",
    "    ax1.bar(lags,acf_values)\n",
    "    ax1.axhline(y=0,color='r',linestyle='--', alpha=0.7)\n",
    "    ax1.axhline(y=1.96/np.sqrt(len(timeseries)),color='r',linestyle='--',alpha=0.7)\n",
    "    ax1.axhline(y=-1.96/np.sqrt(len(timeseries)),color='r',linestyle='--',alpha=0.7)\n",
    "    ax1.set_title('Autocorrelation Function')\n",
    "    ax1.set_xlabel('lags')\n",
    "    ax1.set_xticks(lags)\n",
    "    \n",
    "        \n",
    "    ax2.bar(lags,pacf_values)\n",
    "    ax2.axhline(y=0,color='r',linestyle='--', alpha=0.7)\n",
    "    ax2.axhline(y=1.96/np.sqrt(len(timeseries)),color='r',linestyle='--',alpha=0.7)\n",
    "    ax2.axhline(y=-1.96/np.sqrt(len(timeseries)),color='r',linestyle='--',alpha=0.7)\n",
    "    ax2.set_title('Autocorrelation Function')\n",
    "    ax2.set_xlabel('lags')\n",
    "    ax2.set_xticks(lags)\n",
    "    \n",
    "    plt.tight_layout()\n",
    "    plt.show"
   ]
  },
  {
   "cell_type": "code",
   "execution_count": 33,
   "id": "43e31cd5",
   "metadata": {
    "scrolled": false
   },
   "outputs": [
    {
     "data": {
      "image/png": "[encoded data removed]",
      "text/plain": [
       "<Figure size 1000x600 with 2 Axes>"
      ]
     },
     "metadata": {},
     "output_type": "display_data"
    }
   ],
   "source": [
    "if is_stationary:\n",
    "    plot_acf_pacf(Close)\n",
    "else:\n",
    "    plot_acf_pacf(differenced_data)"
   ]
  },
  {
   "cell_type": "markdown",
   "id": "b6860f92",
   "metadata": {},
   "source": [
    "# ARIMA"
   ]
  },
  {
   "cell_type": "code",
   "execution_count": 34,
   "id": "780d2482",
   "metadata": {},
   "outputs": [
    {
     "name": "stderr",
     "output_type": "stream",
     "text": [
      "C:\\ProgramData\\anaconda3\\Lib\\site-packages\\statsmodels\\tsa\\base\\tsa_model.py:473: ValueWarning: No frequency information was provided, so inferred frequency D will be used.\n",
      "  self._init_dates(dates, freq)\n",
      "C:\\ProgramData\\anaconda3\\Lib\\site-packages\\statsmodels\\tsa\\base\\tsa_model.py:473: ValueWarning: No frequency information was provided, so inferred frequency D will be used.\n",
      "  self._init_dates(dates, freq)\n",
      "C:\\ProgramData\\anaconda3\\Lib\\site-packages\\statsmodels\\tsa\\base\\tsa_model.py:473: ValueWarning: No frequency information was provided, so inferred frequency D will be used.\n",
      "  self._init_dates(dates, freq)\n"
     ]
    },
    {
     "data": {
      "text/html": [
       "<table class=\"simpletable\">\n",
       "<caption>SARIMAX Results</caption>\n",
       "<tr>\n",
       "  <th>Dep. Variable:</th>         <td>Close</td>      <th>  No. Observations:  </th>    <td>4005</td>   \n",
       "</tr>\n",
       "<tr>\n",
       "  <th>Model:</th>            <td>ARIMA(1, 2, 1)</td>  <th>  Log Likelihood     </th> <td>-30610.666</td>\n",
       "</tr>\n",
       "<tr>\n",
       "  <th>Date:</th>            <td>Tue, 23 Apr 2024</td> <th>  AIC                </th>  <td>61227.332</td>\n",
       "</tr>\n",
       "<tr>\n",
       "  <th>Time:</th>                <td>00:57:56</td>     <th>  BIC                </th>  <td>61246.216</td>\n",
       "</tr>\n",
       "<tr>\n",
       "  <th>Sample:</th>             <td>07-18-2010</td>    <th>  HQIC               </th>  <td>61234.026</td>\n",
       "</tr>\n",
       "<tr>\n",
       "  <th></th>                   <td>- 07-04-2021</td>   <th>                     </th>      <td> </td>    \n",
       "</tr>\n",
       "<tr>\n",
       "  <th>Covariance Type:</th>        <td>opg</td>       <th>                     </th>      <td> </td>    \n",
       "</tr>\n",
       "</table>\n",
       "<table class=\"simpletable\">\n",
       "<tr>\n",
       "     <td></td>       <th>coef</th>     <th>std err</th>      <th>z</th>      <th>P>|z|</th>  <th>[0.025</th>    <th>0.975]</th>  \n",
       "</tr>\n",
       "<tr>\n",
       "  <th>ar.L1</th>  <td>   -0.0718</td> <td>    0.005</td> <td>  -13.960</td> <td> 0.000</td> <td>   -0.082</td> <td>   -0.062</td>\n",
       "</tr>\n",
       "<tr>\n",
       "  <th>ma.L1</th>  <td>   -0.9999</td> <td>    0.001</td> <td> -688.118</td> <td> 0.000</td> <td>   -1.003</td> <td>   -0.997</td>\n",
       "</tr>\n",
       "<tr>\n",
       "  <th>sigma2</th> <td> 2.563e+05</td> <td> 1150.335</td> <td>  222.808</td> <td> 0.000</td> <td> 2.54e+05</td> <td> 2.59e+05</td>\n",
       "</tr>\n",
       "</table>\n",
       "<table class=\"simpletable\">\n",
       "<tr>\n",
       "  <th>Ljung-Box (L1) (Q):</th>      <td>0.06</td>   <th>  Jarque-Bera (JB):  </th> <td>507253.09</td>\n",
       "</tr>\n",
       "<tr>\n",
       "  <th>Prob(Q):</th>                 <td>0.80</td>   <th>  Prob(JB):          </th>   <td>0.00</td>   \n",
       "</tr>\n",
       "<tr>\n",
       "  <th>Heteroskedasticity (H):</th> <td>1091.29</td> <th>  Skew:              </th>   <td>-0.04</td>  \n",
       "</tr>\n",
       "<tr>\n",
       "  <th>Prob(H) (two-sided):</th>     <td>0.00</td>   <th>  Kurtosis:          </th>   <td>58.15</td>  \n",
       "</tr>\n",
       "</table><br/><br/>Warnings:<br/>[1] Covariance matrix calculated using the outer product of gradients (complex-step)."
      ],
      "text/latex": [
       "\\begin{center}\n",
       "\\begin{tabular}{lclc}\n",
       "\\toprule\n",
       "\\textbf{Dep. Variable:}          &      Close       & \\textbf{  No. Observations:  } &    4005     \\\\\n",
       "\\textbf{Model:}                  &  ARIMA(1, 2, 1)  & \\textbf{  Log Likelihood     } & -30610.666  \\\\\n",
       "\\textbf{Date:}                   & Tue, 23 Apr 2024 & \\textbf{  AIC                } & 61227.332   \\\\\n",
       "\\textbf{Time:}                   &     00:57:56     & \\textbf{  BIC                } & 61246.216   \\\\\n",
       "\\textbf{Sample:}                 &    07-18-2010    & \\textbf{  HQIC               } & 61234.026   \\\\\n",
       "\\textbf{}                        &   - 07-04-2021   & \\textbf{                     } &             \\\\\n",
       "\\textbf{Covariance Type:}        &       opg        & \\textbf{                     } &             \\\\\n",
       "\\bottomrule\n",
       "\\end{tabular}\n",
       "\\begin{tabular}{lcccccc}\n",
       "                & \\textbf{coef} & \\textbf{std err} & \\textbf{z} & \\textbf{P$> |$z$|$} & \\textbf{[0.025} & \\textbf{0.975]}  \\\\\n",
       "\\midrule\n",
       "\\textbf{ar.L1}  &      -0.0718  &        0.005     &   -13.960  &         0.000        &       -0.082    &       -0.062     \\\\\n",
       "\\textbf{ma.L1}  &      -0.9999  &        0.001     &  -688.118  &         0.000        &       -1.003    &       -0.997     \\\\\n",
       "\\textbf{sigma2} &    2.563e+05  &     1150.335     &   222.808  &         0.000        &     2.54e+05    &     2.59e+05     \\\\\n",
       "\\bottomrule\n",
       "\\end{tabular}\n",
       "\\begin{tabular}{lclc}\n",
       "\\textbf{Ljung-Box (L1) (Q):}     &   0.06  & \\textbf{  Jarque-Bera (JB):  } & 507253.09  \\\\\n",
       "\\textbf{Prob(Q):}                &   0.80  & \\textbf{  Prob(JB):          } &    0.00    \\\\\n",
       "\\textbf{Heteroskedasticity (H):} & 1091.29 & \\textbf{  Skew:              } &   -0.04    \\\\\n",
       "\\textbf{Prob(H) (two-sided):}    &   0.00  & \\textbf{  Kurtosis:          } &   58.15    \\\\\n",
       "\\bottomrule\n",
       "\\end{tabular}\n",
       "%\\caption{SARIMAX Results}\n",
       "\\end{center}\n",
       "\n",
       "Warnings: \\newline\n",
       " [1] Covariance matrix calculated using the outer product of gradients (complex-step)."
      ],
      "text/plain": [
       "<class 'statsmodels.iolib.summary.Summary'>\n",
       "\"\"\"\n",
       "                               SARIMAX Results                                \n",
       "==============================================================================\n",
       "Dep. Variable:                  Close   No. Observations:                 4005\n",
       "Model:                 ARIMA(1, 2, 1)   Log Likelihood              -30610.666\n",
       "Date:                Tue, 23 Apr 2024   AIC                          61227.332\n",
       "Time:                        00:57:56   BIC                          61246.216\n",
       "Sample:                    07-18-2010   HQIC                         61234.026\n",
       "                         - 07-04-2021                                         \n",
       "Covariance Type:                  opg                                         \n",
       "==============================================================================\n",
       "                 coef    std err          z      P>|z|      [0.025      0.975]\n",
       "------------------------------------------------------------------------------\n",
       "ar.L1         -0.0718      0.005    -13.960      0.000      -0.082      -0.062\n",
       "ma.L1         -0.9999      0.001   -688.118      0.000      -1.003      -0.997\n",
       "sigma2      2.563e+05   1150.335    222.808      0.000    2.54e+05    2.59e+05\n",
       "===================================================================================\n",
       "Ljung-Box (L1) (Q):                   0.06   Jarque-Bera (JB):            507253.09\n",
       "Prob(Q):                              0.80   Prob(JB):                         0.00\n",
       "Heteroskedasticity (H):            1091.29   Skew:                            -0.04\n",
       "Prob(H) (two-sided):                  0.00   Kurtosis:                        58.15\n",
       "===================================================================================\n",
       "\n",
       "Warnings:\n",
       "[1] Covariance matrix calculated using the outer product of gradients (complex-step).\n",
       "\"\"\""
      ]
     },
     "execution_count": 34,
     "metadata": {},
     "output_type": "execute_result"
    }
   ],
   "source": [
    "# train_data_univariate = train_data[target_column] \n",
    "# model = ARIMA(train_data_univariate, order=(1,2,1)) \n",
    "train=df.iloc[:-1000]\n",
    "test=df.iloc[-1000:]\n",
    "model = ARIMA(train['Close'], order=(1,2,1)).fit()\n",
    "model.summary()\n"
   ]
  },
  {
   "cell_type": "code",
   "execution_count": 35,
   "id": "59030d80",
   "metadata": {
    "scrolled": true
   },
   "outputs": [],
   "source": [
    "# fitted_model = model.fit()"
   ]
  },
  {
   "cell_type": "code",
   "execution_count": 36,
   "id": "99753c01",
   "metadata": {
    "scrolled": false
   },
   "outputs": [],
   "source": [
    "# predictions= fitted_model.predict(start=len(train_data), end=len(data[target_column]))\n",
    "# predictions"
   ]
  },
  {
   "cell_type": "code",
   "execution_count": 37,
   "id": "3211b807",
   "metadata": {},
   "outputs": [
    {
     "name": "stderr",
     "output_type": "stream",
     "text": [
      "C:\\ProgramData\\anaconda3\\Lib\\site-packages\\statsmodels\\tsa\\statespace\\representation.py:374: FutureWarning: Unknown keyword arguments: dict_keys(['typ']).Passing unknown keyword arguments will raise a TypeError beginning in version 0.15.\n",
      "  warnings.warn(msg, FutureWarning)\n"
     ]
    },
    {
     "data": {
      "text/plain": [
       "2021-07-05    35268.428894\n",
       "2021-07-06    35280.158952\n",
       "2021-07-07    35288.875511\n",
       "2021-07-08    35297.808386\n",
       "2021-07-09    35306.725732\n",
       "                  ...     \n",
       "2024-03-26    44144.847124\n",
       "2024-03-27    44153.765511\n",
       "2024-03-28    44162.683898\n",
       "2024-03-29    44171.602285\n",
       "2024-03-30    44180.520672\n",
       "Freq: D, Name: ARIMA predictions, Length: 1000, dtype: float64"
      ]
     },
     "execution_count": 37,
     "metadata": {},
     "output_type": "execute_result"
    }
   ],
   "source": [
    "start=len(train)\n",
    "end=len(train)+len(test)-1\n",
    "\n",
    "pred=model.predict(start=start,end=end,typ='levels').rename('ARIMA predictions')\n",
    "pred"
   ]
  },
  {
   "cell_type": "code",
   "execution_count": 38,
   "id": "0d71148b",
   "metadata": {},
   "outputs": [
    {
     "data": {
      "text/plain": [
       "<Axes: xlabel='Date'>"
      ]
     },
     "execution_count": 38,
     "metadata": {},
     "output_type": "execute_result"
    },
    {
     "data": {
      "image/png": "[encoded data removed]",
      "text/plain": [
       "<Figure size 640x480 with 1 Axes>"
      ]
     },
     "metadata": {},
     "output_type": "display_data"
    }
   ],
   "source": [
    "pred.plot(legend=True)\n",
    "test['Close'].plot(legend=True)"
   ]
  },
  {
   "cell_type": "code",
   "execution_count": 52,
   "id": "3c971e1b",
   "metadata": {},
   "outputs": [],
   "source": [
    "# Assuming your dataset is indexed by datetime objects\n",
    "train = data.iloc[:-500]  # Assuming you want to use all but the last 500 rows for training\n",
    "test = data.iloc[-500:]   # Assuming you want to use the last 500 rows for testing\n",
    "\n",
    "# Use the index positions for start and end of test set\n",
    "start_index = len(train)\n",
    "end_index = len(train) + len(test) - 1\n",
    "\n",
    "# Predict using ARIMA model\n",
    "predictions = model.predict(start=start_index, end=end_index, typ='levels')[:len(test)]\n",
    "\n"
   ]
  },
  {
   "cell_type": "code",
   "execution_count": 51,
   "id": "815d0721",
   "metadata": {},
   "outputs": [
    {
     "name": "stdout",
     "output_type": "stream",
     "text": [
      "Length of test_target: 505\n",
      "Length of predictions: 500\n",
      "Warning: The number of predictions does not match the number of test data points!\n",
      "Corrected number of predictions: 505\n"
     ]
    }
   ],
   "source": [
    "# Check the length of test_target and predictions\n",
    "print(f\"Length of test_target: {len(test_target)}\")\n",
    "print(f\"Length of predictions: {len(predictions)}\")\n",
    "\n",
    "# Ensure that the number of predictions matches the number of test data points\n",
    "if len(predictions) != len(test_target):\n",
    "    print(\"Warning: The number of predictions does not match the number of test data points!\")\n",
    "    # Generate predictions correctly matching the test data length\n",
    "    predictions = model.forecast(steps=len(test_target))  # Correcting the steps parameter\n",
    "    print(f\"Corrected number of predictions: {len(predictions)}\")\n"
   ]
  },
  {
   "cell_type": "code",
   "execution_count": 57,
   "id": "4d472130",
   "metadata": {},
   "outputs": [
    {
     "name": "stderr",
     "output_type": "stream",
     "text": [
      "C:\\ProgramData\\anaconda3\\Lib\\site-packages\\statsmodels\\tsa\\statespace\\representation.py:374: FutureWarning: Unknown keyword arguments: dict_keys(['typ']).Passing unknown keyword arguments will raise a TypeError beginning in version 0.15.\n",
      "  warnings.warn(msg, FutureWarning)\n"
     ]
    }
   ],
   "source": [
    "start_index = len(train_data)  # Start forecasting right after the last training data point\n",
    "end_index = start_index + len(test_target) - 1  # Ensure it includes all test data points\n",
    "\n",
    "predictions = model.predict(start=start_index, end=end_index, typ='levels')\n"
   ]
  },
  {
   "cell_type": "code",
   "execution_count": 58,
   "id": "8dd9abb1",
   "metadata": {},
   "outputs": [
    {
     "name": "stdout",
     "output_type": "stream",
     "text": [
      "Mean Squared Error (MSE): 618054861.6681\n",
      "Root Mean Squared Error (RMSE): 24860.7092\n",
      "Mean Absolute Error (MAE): 20118.6633\n",
      "Mean Absolute Percentage Error (MAPE): 14.0631%\n"
     ]
    }
   ],
   "source": [
    "from sklearn.metrics import mean_squared_error, mean_absolute_error\n",
    "test_target = test_data[target_column]\n",
    "mse = mean_squared_error(test_target, predictions)\n",
    "rmse = np.sqrt(mse)\n",
    "mae = mean_absolute_error(test_target, predictions)\n",
    "mape = np.mean(np.abs((test_target - predictions) / test_target)) * 100  # MAPE in percentage\n",
    "\n",
    "print(f\"Mean Squared Error (MSE): {mse:.4f}\")\n",
    "print(f\"Root Mean Squared Error (RMSE): {rmse:.4f}\")\n",
    "print(f\"Mean Absolute Error (MAE): {mae:.4f}\")\n",
    "print(f\"Mean Absolute Percentage Error (MAPE): {mape:.4f}%\")\n"
   ]
  },
  {
   "cell_type": "code",
   "execution_count": 61,
   "id": "b59d0001",
   "metadata": {},
   "outputs": [
    {
     "data": {
      "image/png": "[encoded data removed]",
      "text/plain": [
       "<Figure size 1200x600 with 1 Axes>"
      ]
     },
     "metadata": {},
     "output_type": "display_data"
    }
   ],
   "source": [
    "plt.figure(figsize=(12, 6))\n",
    "plt.plot(df.index, df['Close'], label='Actual Close')  # Assuming 'Close' is the column name\n",
    "plt.plot(test_data.index, predictions, label='Predicted Close')\n",
    "plt.xlabel('Date')\n",
    "plt.ylabel('Close')\n",
    "plt.title('Actual vs. Predicted Close')\n",
    "plt.legend()\n",
    "plt.grid(True)\n",
    "plt.xticks(rotation=45)\n",
    "plt.tight_layout()\n",
    "plt.show()"
   ]
  },
  {
   "cell_type": "markdown",
   "id": "c4e9ae12",
   "metadata": {},
   "source": [
    "# SARIMA"
   ]
  },
  {
   "cell_type": "code",
   "execution_count": 64,
   "id": "3c092c6a",
   "metadata": {},
   "outputs": [
    {
     "name": "stdout",
     "output_type": "stream",
     "text": [
      "Defaulting to user installation because normal site-packages is not writeable\n",
      "Requirement already satisfied: statsmodels in c:\\programdata\\anaconda3\\lib\\site-packages (0.14.0)\n",
      "Requirement already satisfied: numpy>=1.18 in c:\\programdata\\anaconda3\\lib\\site-packages (from statsmodels) (1.24.3)\n",
      "Requirement already satisfied: scipy!=1.9.2,>=1.4 in c:\\programdata\\anaconda3\\lib\\site-packages (from statsmodels) (1.11.1)\n",
      "Requirement already satisfied: pandas>=1.0 in c:\\programdata\\anaconda3\\lib\\site-packages (from statsmodels) (2.0.3)\n",
      "Requirement already satisfied: patsy>=0.5.2 in c:\\programdata\\anaconda3\\lib\\site-packages (from statsmodels) (0.5.3)\n",
      "Requirement already satisfied: packaging>=21.3 in c:\\programdata\\anaconda3\\lib\\site-packages (from statsmodels) (23.1)\n",
      "Requirement already satisfied: python-dateutil>=2.8.2 in c:\\programdata\\anaconda3\\lib\\site-packages (from pandas>=1.0->statsmodels) (2.8.2)\n",
      "Requirement already satisfied: pytz>=2020.1 in c:\\programdata\\anaconda3\\lib\\site-packages (from pandas>=1.0->statsmodels) (2023.3.post1)\n",
      "Requirement already satisfied: tzdata>=2022.1 in c:\\programdata\\anaconda3\\lib\\site-packages (from pandas>=1.0->statsmodels) (2023.3)\n",
      "Requirement already satisfied: six in c:\\programdata\\anaconda3\\lib\\site-packages (from patsy>=0.5.2->statsmodels) (1.16.0)\n"
     ]
    },
    {
     "name": "stderr",
     "output_type": "stream",
     "text": [
      "C:\\ProgramData\\anaconda3\\Lib\\site-packages\\statsmodels\\tsa\\base\\tsa_model.py:473: ValueWarning: A date index has been provided, but it has no associated frequency information and so will be ignored when e.g. forecasting.\n",
      "  self._init_dates(dates, freq)\n",
      "C:\\ProgramData\\anaconda3\\Lib\\site-packages\\statsmodels\\tsa\\base\\tsa_model.py:473: ValueWarning: A date index has been provided, but it has no associated frequency information and so will be ignored when e.g. forecasting.\n",
      "  self._init_dates(dates, freq)\n",
      "C:\\ProgramData\\anaconda3\\Lib\\site-packages\\statsmodels\\base\\model.py:607: ConvergenceWarning: Maximum Likelihood optimization failed to converge. Check mle_retvals\n",
      "  warnings.warn(\"Maximum Likelihood optimization failed to \"\n"
     ]
    },
    {
     "name": "stdout",
     "output_type": "stream",
     "text": [
      "                                      SARIMAX Results                                       \n",
      "============================================================================================\n",
      "Dep. Variable:                                Close   No. Observations:                 2523\n",
      "Model:             SARIMAX(2, 1, 2)x(0, 1, [1], 12)   Log Likelihood              -20987.277\n",
      "Date:                              Tue, 23 Apr 2024   AIC                          41986.553\n",
      "Time:                                      02:00:36   BIC                          42021.521\n",
      "Sample:                                           0   HQIC                         41999.246\n",
      "                                             - 2523                                         \n",
      "Covariance Type:                                opg                                         \n",
      "==============================================================================\n",
      "                 coef    std err          z      P>|z|      [0.025      0.975]\n",
      "------------------------------------------------------------------------------\n",
      "ar.L1          0.0007      1.878      0.000      1.000      -3.681       3.682\n",
      "ar.L2          0.9992      1.856      0.538      0.590      -2.638       4.637\n",
      "ma.L1         -0.0009      1.887     -0.000      1.000      -3.699       3.697\n",
      "ma.L2         -0.9990      1.865     -0.536      0.592      -4.654       2.656\n",
      "ma.S.L12      -0.9881      0.003   -297.888      0.000      -0.995      -0.982\n",
      "sigma2      1.061e+06   1.05e+04    100.864      0.000    1.04e+06    1.08e+06\n",
      "===================================================================================\n",
      "Ljung-Box (L1) (Q):                   0.97   Jarque-Bera (JB):           6252042.28\n",
      "Prob(Q):                              0.32   Prob(JB):                         0.00\n",
      "Heteroskedasticity (H):          369848.34   Skew:                             3.28\n",
      "Prob(H) (two-sided):                  0.00   Kurtosis:                       247.41\n",
      "===================================================================================\n",
      "\n",
      "Warnings:\n",
      "[1] Covariance matrix calculated using the outer product of gradients (complex-step).\n"
     ]
    }
   ],
   "source": [
    "!pip install statsmodels\n",
    "import statsmodels.api as sm\n",
    "model = sm.tsa.statespace.SARIMAX(data[target_column],order = (2,1,2),seasonal_order = (0,1,1,12))\n",
    "model_fit = model.fit()\n",
    "print(model_fit.summary())"
   ]
  },
  {
   "cell_type": "code",
   "execution_count": 67,
   "id": "367f3a01",
   "metadata": {},
   "outputs": [
    {
     "name": "stdout",
     "output_type": "stream",
     "text": [
      "\t SARIMA MODEL : In - Sample Forecasting \n",
      "\n"
     ]
    },
    {
     "name": "stderr",
     "output_type": "stream",
     "text": [
      "C:\\ProgramData\\anaconda3\\Lib\\site-packages\\statsmodels\\base\\model.py:607: ConvergenceWarning: Maximum Likelihood optimization failed to converge. Check mle_retvals\n",
      "  warnings.warn(\"Maximum Likelihood optimization failed to \"\n"
     ]
    },
    {
     "name": "stdout",
     "output_type": "stream",
     "text": [
      "predicted = 43685.413181, expected = 43195.720000\n"
     ]
    },
    {
     "name": "stderr",
     "output_type": "stream",
     "text": [
      "C:\\ProgramData\\anaconda3\\Lib\\site-packages\\statsmodels\\base\\model.py:607: ConvergenceWarning: Maximum Likelihood optimization failed to converge. Check mle_retvals\n",
      "  warnings.warn(\"Maximum Likelihood optimization failed to \"\n"
     ]
    },
    {
     "name": "stdout",
     "output_type": "stream",
     "text": [
      "predicted = 43435.227315, expected = 43004.640000\n"
     ]
    },
    {
     "name": "stderr",
     "output_type": "stream",
     "text": [
      "C:\\ProgramData\\anaconda3\\Lib\\site-packages\\statsmodels\\base\\model.py:607: ConvergenceWarning: Maximum Likelihood optimization failed to converge. Check mle_retvals\n",
      "  warnings.warn(\"Maximum Likelihood optimization failed to \"\n"
     ]
    },
    {
     "name": "stdout",
     "output_type": "stream",
     "text": [
      "predicted = 43279.432706, expected = 42580.440000\n"
     ]
    },
    {
     "name": "stderr",
     "output_type": "stream",
     "text": [
      "C:\\ProgramData\\anaconda3\\Lib\\site-packages\\statsmodels\\base\\model.py:607: ConvergenceWarning: Maximum Likelihood optimization failed to converge. Check mle_retvals\n",
      "  warnings.warn(\"Maximum Likelihood optimization failed to \"\n"
     ]
    },
    {
     "name": "stdout",
     "output_type": "stream",
     "text": [
      "predicted = 42428.986419, expected = 42696.370000\n"
     ]
    },
    {
     "name": "stderr",
     "output_type": "stream",
     "text": [
      "C:\\ProgramData\\anaconda3\\Lib\\site-packages\\statsmodels\\base\\model.py:607: ConvergenceWarning: Maximum Likelihood optimization failed to converge. Check mle_retvals\n",
      "  warnings.warn(\"Maximum Likelihood optimization failed to \"\n"
     ]
    },
    {
     "name": "stdout",
     "output_type": "stream",
     "text": [
      "predicted = 42568.485182, expected = 43086.150000\n",
      "predicted = -73869.362121, expected = 44342.270000\n"
     ]
    },
    {
     "name": "stderr",
     "output_type": "stream",
     "text": [
      "C:\\ProgramData\\anaconda3\\Lib\\site-packages\\statsmodels\\base\\model.py:607: ConvergenceWarning: Maximum Likelihood optimization failed to converge. Check mle_retvals\n",
      "  warnings.warn(\"Maximum Likelihood optimization failed to \"\n"
     ]
    },
    {
     "name": "stdout",
     "output_type": "stream",
     "text": [
      "predicted = 44224.511446, expected = 45299.640000\n"
     ]
    },
    {
     "name": "stderr",
     "output_type": "stream",
     "text": [
      "C:\\ProgramData\\anaconda3\\Lib\\site-packages\\statsmodels\\base\\model.py:607: ConvergenceWarning: Maximum Likelihood optimization failed to converge. Check mle_retvals\n",
      "  warnings.warn(\"Maximum Likelihood optimization failed to \"\n"
     ]
    },
    {
     "name": "stdout",
     "output_type": "stream",
     "text": [
      "predicted = 45218.458018, expected = 47759.520000\n"
     ]
    },
    {
     "name": "stderr",
     "output_type": "stream",
     "text": [
      "C:\\ProgramData\\anaconda3\\Lib\\site-packages\\statsmodels\\base\\model.py:607: ConvergenceWarning: Maximum Likelihood optimization failed to converge. Check mle_retvals\n",
      "  warnings.warn(\"Maximum Likelihood optimization failed to \"\n"
     ]
    },
    {
     "name": "stdout",
     "output_type": "stream",
     "text": [
      "predicted = 47808.090968, expected = 48279.880000\n"
     ]
    },
    {
     "name": "stderr",
     "output_type": "stream",
     "text": [
      "C:\\ProgramData\\anaconda3\\Lib\\site-packages\\statsmodels\\base\\model.py:607: ConvergenceWarning: Maximum Likelihood optimization failed to converge. Check mle_retvals\n",
      "  warnings.warn(\"Maximum Likelihood optimization failed to \"\n"
     ]
    },
    {
     "name": "stdout",
     "output_type": "stream",
     "text": [
      "predicted = 48423.308675, expected = 52134.960000\n"
     ]
    },
    {
     "name": "stderr",
     "output_type": "stream",
     "text": [
      "C:\\ProgramData\\anaconda3\\Lib\\site-packages\\statsmodels\\base\\model.py:607: ConvergenceWarning: Maximum Likelihood optimization failed to converge. Check mle_retvals\n",
      "  warnings.warn(\"Maximum Likelihood optimization failed to \"\n"
     ]
    },
    {
     "name": "stdout",
     "output_type": "stream",
     "text": [
      "predicted = 52099.795492, expected = 51644.140000\n"
     ]
    },
    {
     "name": "stderr",
     "output_type": "stream",
     "text": [
      "C:\\ProgramData\\anaconda3\\Lib\\site-packages\\statsmodels\\base\\model.py:607: ConvergenceWarning: Maximum Likelihood optimization failed to converge. Check mle_retvals\n",
      "  warnings.warn(\"Maximum Likelihood optimization failed to \"\n"
     ]
    },
    {
     "name": "stdout",
     "output_type": "stream",
     "text": [
      "predicted = 52028.950331, expected = 52115.980000\n"
     ]
    },
    {
     "name": "stderr",
     "output_type": "stream",
     "text": [
      "C:\\ProgramData\\anaconda3\\Lib\\site-packages\\statsmodels\\base\\model.py:607: ConvergenceWarning: Maximum Likelihood optimization failed to converge. Check mle_retvals\n",
      "  warnings.warn(\"Maximum Likelihood optimization failed to \"\n"
     ]
    },
    {
     "name": "stdout",
     "output_type": "stream",
     "text": [
      "predicted = 52630.950157, expected = 51786.030000\n"
     ]
    },
    {
     "name": "stderr",
     "output_type": "stream",
     "text": [
      "C:\\ProgramData\\anaconda3\\Lib\\site-packages\\statsmodels\\base\\model.py:607: ConvergenceWarning: Maximum Likelihood optimization failed to converge. Check mle_retvals\n",
      "  warnings.warn(\"Maximum Likelihood optimization failed to \"\n"
     ]
    },
    {
     "name": "stdout",
     "output_type": "stream",
     "text": [
      "predicted = 51701.439158, expected = 52264.680000\n",
      "predicted = 52438.536239, expected = 51855.840000\n"
     ]
    },
    {
     "name": "stderr",
     "output_type": "stream",
     "text": [
      "C:\\ProgramData\\anaconda3\\Lib\\site-packages\\statsmodels\\base\\model.py:607: ConvergenceWarning: Maximum Likelihood optimization failed to converge. Check mle_retvals\n",
      "  warnings.warn(\"Maximum Likelihood optimization failed to \"\n"
     ]
    },
    {
     "name": "stdout",
     "output_type": "stream",
     "text": [
      "predicted = 51734.236416, expected = 51310.960000\n"
     ]
    },
    {
     "name": "stderr",
     "output_type": "stream",
     "text": [
      "C:\\ProgramData\\anaconda3\\Lib\\site-packages\\statsmodels\\base\\model.py:607: ConvergenceWarning: Maximum Likelihood optimization failed to converge. Check mle_retvals\n",
      "  warnings.warn(\"Maximum Likelihood optimization failed to \"\n"
     ]
    },
    {
     "name": "stdout",
     "output_type": "stream",
     "text": [
      "predicted = 51502.747504, expected = 50740.680000\n"
     ]
    },
    {
     "name": "stderr",
     "output_type": "stream",
     "text": [
      "C:\\ProgramData\\anaconda3\\Lib\\site-packages\\statsmodels\\base\\model.py:607: ConvergenceWarning: Maximum Likelihood optimization failed to converge. Check mle_retvals\n",
      "  warnings.warn(\"Maximum Likelihood optimization failed to \"\n"
     ]
    },
    {
     "name": "stdout",
     "output_type": "stream",
     "text": [
      "predicted = 50424.830078, expected = 51571.730000\n"
     ]
    },
    {
     "name": "stderr",
     "output_type": "stream",
     "text": [
      "C:\\ProgramData\\anaconda3\\Lib\\site-packages\\statsmodels\\base\\model.py:607: ConvergenceWarning: Maximum Likelihood optimization failed to converge. Check mle_retvals\n",
      "  warnings.warn(\"Maximum Likelihood optimization failed to \"\n"
     ]
    },
    {
     "name": "stdout",
     "output_type": "stream",
     "text": [
      "predicted = 51442.053575, expected = 51721.660000\n"
     ]
    },
    {
     "name": "stderr",
     "output_type": "stream",
     "text": [
      "C:\\ProgramData\\anaconda3\\Lib\\site-packages\\statsmodels\\base\\model.py:607: ConvergenceWarning: Maximum Likelihood optimization failed to converge. Check mle_retvals\n",
      "  warnings.warn(\"Maximum Likelihood optimization failed to \"\n"
     ]
    },
    {
     "name": "stdout",
     "output_type": "stream",
     "text": [
      "predicted = 51594.635482, expected = 61992.110000\n"
     ]
    },
    {
     "name": "stderr",
     "output_type": "stream",
     "text": [
      "C:\\ProgramData\\anaconda3\\Lib\\site-packages\\statsmodels\\base\\model.py:607: ConvergenceWarning: Maximum Likelihood optimization failed to converge. Check mle_retvals\n",
      "  warnings.warn(\"Maximum Likelihood optimization failed to \"\n"
     ]
    },
    {
     "name": "stdout",
     "output_type": "stream",
     "text": [
      "predicted = 62371.581142, expected = 63095.580000\n"
     ]
    },
    {
     "name": "stderr",
     "output_type": "stream",
     "text": [
      "C:\\ProgramData\\anaconda3\\Lib\\site-packages\\statsmodels\\base\\model.py:607: ConvergenceWarning: Maximum Likelihood optimization failed to converge. Check mle_retvals\n",
      "  warnings.warn(\"Maximum Likelihood optimization failed to \"\n"
     ]
    },
    {
     "name": "stdout",
     "output_type": "stream",
     "text": [
      "predicted = 63081.520717, expected = 68376.220000\n"
     ]
    },
    {
     "name": "stderr",
     "output_type": "stream",
     "text": [
      "C:\\ProgramData\\anaconda3\\Lib\\site-packages\\statsmodels\\base\\model.py:607: ConvergenceWarning: Maximum Likelihood optimization failed to converge. Check mle_retvals\n",
      "  warnings.warn(\"Maximum Likelihood optimization failed to \"\n"
     ]
    },
    {
     "name": "stdout",
     "output_type": "stream",
     "text": [
      "predicted = 67759.919810, expected = 69433.960000\n"
     ]
    },
    {
     "name": "stderr",
     "output_type": "stream",
     "text": [
      "C:\\ProgramData\\anaconda3\\Lib\\site-packages\\statsmodels\\base\\model.py:607: ConvergenceWarning: Maximum Likelihood optimization failed to converge. Check mle_retvals\n",
      "  warnings.warn(\"Maximum Likelihood optimization failed to \"\n"
     ]
    },
    {
     "name": "stdout",
     "output_type": "stream",
     "text": [
      "predicted = 69527.827024, expected = 68390.500000\n"
     ]
    },
    {
     "name": "stderr",
     "output_type": "stream",
     "text": [
      "C:\\ProgramData\\anaconda3\\Lib\\site-packages\\statsmodels\\base\\model.py:607: ConvergenceWarning: Maximum Likelihood optimization failed to converge. Check mle_retvals\n",
      "  warnings.warn(\"Maximum Likelihood optimization failed to \"\n"
     ]
    },
    {
     "name": "stdout",
     "output_type": "stream",
     "text": [
      "predicted = 68373.353038, expected = 63785.360000\n"
     ]
    },
    {
     "name": "stderr",
     "output_type": "stream",
     "text": [
      "C:\\ProgramData\\anaconda3\\Lib\\site-packages\\statsmodels\\base\\model.py:607: ConvergenceWarning: Maximum Likelihood optimization failed to converge. Check mle_retvals\n",
      "  warnings.warn(\"Maximum Likelihood optimization failed to \"\n"
     ]
    },
    {
     "name": "stdout",
     "output_type": "stream",
     "text": [
      "predicted = 63392.926379, expected = 64040.740000\n"
     ]
    },
    {
     "name": "stderr",
     "output_type": "stream",
     "text": [
      "C:\\ProgramData\\anaconda3\\Lib\\site-packages\\statsmodels\\base\\model.py:607: ConvergenceWarning: Maximum Likelihood optimization failed to converge. Check mle_retvals\n",
      "  warnings.warn(\"Maximum Likelihood optimization failed to \"\n"
     ]
    },
    {
     "name": "stdout",
     "output_type": "stream",
     "text": [
      "predicted = 64316.373085, expected = 67212.710000\n"
     ]
    },
    {
     "name": "stderr",
     "output_type": "stream",
     "text": [
      "C:\\ProgramData\\anaconda3\\Lib\\site-packages\\statsmodels\\base\\model.py:607: ConvergenceWarning: Maximum Likelihood optimization failed to converge. Check mle_retvals\n",
      "  warnings.warn(\"Maximum Likelihood optimization failed to \"\n"
     ]
    },
    {
     "name": "stdout",
     "output_type": "stream",
     "text": [
      "predicted = 67094.410873, expected = 70768.940000\n",
      "predicted = 70881.022190, expected = 69875.040000\n"
     ]
    },
    {
     "name": "stderr",
     "output_type": "stream",
     "text": [
      "C:\\ProgramData\\anaconda3\\Lib\\site-packages\\statsmodels\\base\\model.py:607: ConvergenceWarning: Maximum Likelihood optimization failed to converge. Check mle_retvals\n",
      "  warnings.warn(\"Maximum Likelihood optimization failed to \"\n"
     ]
    },
    {
     "name": "stdout",
     "output_type": "stream",
     "text": [
      "predicted = 70189.232369, expected = 70123.840000\n"
     ]
    }
   ],
   "source": [
    "size = int(len(data) - 30)\n",
    "train, test = data[target_column][0:size], data[target_column][size:len(data)]\n",
    "\n",
    "print('\\t SARIMA MODEL : In - Sample Forecasting \\n')\n",
    "\n",
    "history = [x for x in train]\n",
    "predictions = []\n",
    "\n",
    "for t in range(len(test)):\n",
    "    \n",
    "    model = sm.tsa.statespace.SARIMAX(history,order = (2,1,2),seasonal_order = (0,1,1,12))\n",
    "    model_fit = model.fit()\n",
    "    \n",
    "    output = model_fit.forecast()\n",
    "    \n",
    "    yhat = output[0]\n",
    "    predictions.append(float(yhat))\n",
    "    \n",
    "    obs = test[t]\n",
    "    history.append(obs)\n",
    "    \n",
    "    print('predicted = %f, expected = %f' % (yhat, obs))"
   ]
  },
  {
   "cell_type": "code",
   "execution_count": 68,
   "id": "6124e57d",
   "metadata": {
    "scrolled": true
   },
   "outputs": [
    {
     "data": {
      "image/png": "[encoded data removed]",
      "text/plain": [
       "<Figure size 1500x500 with 1 Axes>"
      ]
     },
     "metadata": {},
     "output_type": "display_data"
    }
   ],
   "source": [
    "predictions_series = pd.Series(predictions, index = test.index)\n",
    "fig,ax = plt.subplots(nrows = 1,ncols = 1,figsize = (15,5))\n",
    "\n",
    "plt.subplot(1,1,1)\n",
    "plt.plot(data[target_column],label = 'Expected Values')\n",
    "plt.plot(predictions_series,label = 'Predicted Values');\n",
    "plt.legend(loc=\"upper left\")\n",
    "plt.show()"
   ]
  },
  {
   "cell_type": "code",
   "execution_count": 71,
   "id": "61735e50",
   "metadata": {},
   "outputs": [
    {
     "name": "stderr",
     "output_type": "stream",
     "text": [
      "C:\\ProgramData\\anaconda3\\Lib\\site-packages\\statsmodels\\tsa\\base\\tsa_model.py:473: ValueWarning: A date index has been provided, but it has no associated frequency information and so will be ignored when e.g. forecasting.\n",
      "  self._init_dates(dates, freq)\n",
      "C:\\ProgramData\\anaconda3\\Lib\\site-packages\\statsmodels\\tsa\\base\\tsa_model.py:473: ValueWarning: A date index has been provided, but it has no associated frequency information and so will be ignored when e.g. forecasting.\n",
      "  self._init_dates(dates, freq)\n",
      "C:\\ProgramData\\anaconda3\\Lib\\site-packages\\statsmodels\\base\\model.py:607: ConvergenceWarning: Maximum Likelihood optimization failed to converge. Check mle_retvals\n",
      "  warnings.warn(\"Maximum Likelihood optimization failed to \"\n",
      "C:\\ProgramData\\anaconda3\\Lib\\site-packages\\statsmodels\\tsa\\base\\tsa_model.py:836: ValueWarning: No supported index is available. Prediction results will be given with an integer index beginning at `start`.\n",
      "  return get_prediction_index(\n",
      "C:\\ProgramData\\anaconda3\\Lib\\site-packages\\statsmodels\\tsa\\base\\tsa_model.py:836: FutureWarning: No supported index is available. In the next version, calling this method in a model without a supported index will result in an exception.\n",
      "  return get_prediction_index(\n"
     ]
    },
    {
     "data": {
      "text/plain": [
       "2523    69899.418573\n",
       "2524    69915.783509\n",
       "2525    70099.776460\n",
       "2526    70501.409612\n",
       "2527    70479.457745\n",
       "Name: predicted_mean, dtype: float64"
      ]
     },
     "execution_count": 71,
     "metadata": {},
     "output_type": "execute_result"
    }
   ],
   "source": [
    "from statsmodels.tsa.statespace.sarimax import SARIMAX\n",
    "history_close_sarima = data['Close']\n",
    "\n",
    "# Attempt to fit the SARIMA model with simplified settings and more robust convergence criteria\n",
    "model_close_sarima_adjusted = SARIMAX(history_close_sarima, order=(0,1,1), seasonal_order=(0,1,1,12))\n",
    "model_fit_close_sarima_adjusted = model_close_sarima_adjusted.fit(disp=False, maxiter=50, method='nm')  # Using Nelder-Mead method\n",
    "\n",
    "# Forecast with the adjusted model\n",
    "output_close_sarima_adjusted = model_fit_close_sarima_adjusted.forecast(steps=30)  # Forecasting the next 30 points directly\n",
    "output_close_sarima_adjusted.head()"
   ]
  },
  {
   "cell_type": "code",
   "execution_count": 72,
   "id": "80993cfa",
   "metadata": {},
   "outputs": [
    {
     "data": {
      "image/png": "[encoded data removed]",
      "text/plain": [
       "<Figure size 1000x500 with 1 Axes>"
      ]
     },
     "metadata": {},
     "output_type": "display_data"
    }
   ],
   "source": [
    "forecast_index = pd.date_range(start=history_close_sarima.index[-1], periods=31, freq='M')[1:]\n",
    "\n",
    "plt.figure(figsize=(10, 5))\n",
    "plt.plot(history_close_sarima.index, history_close_sarima, label='Historical Close')\n",
    "plt.plot(forecast_index, output_close_sarima_adjusted, label='Forecasted Close', color='red')\n",
    "plt.title('Forecast vs Actuals')\n",
    "plt.xlabel('Date')\n",
    "plt.ylabel('Close Price')\n",
    "plt.legend()\n",
    "plt.show()"
   ]
  },
  {
   "cell_type": "code",
   "execution_count": 73,
   "id": "f8073e19",
   "metadata": {},
   "outputs": [
    {
     "name": "stdout",
     "output_type": "stream",
     "text": [
      "Test RMSE: 21745.2925\n"
     ]
    }
   ],
   "source": [
    "error = np.sqrt(mean_squared_error(test,predictions))\n",
    "print('Test RMSE: %.4f' % error)"
   ]
  },
  {
   "cell_type": "code",
   "execution_count": 76,
   "id": "401e0ca1",
   "metadata": {},
   "outputs": [
    {
     "name": "stdout",
     "output_type": "stream",
     "text": [
      "Test RMSE: 21745.2925\n",
      "Test MAE: 5522.2188\n",
      "Mean Absolute Percentage Error (MAPE): 11.5644%\n",
      "Test MSE: 472857745.6183\n"
     ]
    }
   ],
   "source": [
    "from sklearn.metrics import mean_squared_error, mean_absolute_error\n",
    "\n",
    "# Calculate Mean Absolute Error (MAE)\n",
    "mae = mean_absolute_error(test, predictions)\n",
    "\n",
    "# Calculate Mean Absolute Percentage Error (MAPE)\n",
    "def mean_absolute_percentage_error(y_true, y_pred): \n",
    "    return np.mean(np.abs((y_true - y_pred) / y_true)) * 100\n",
    "mape = mean_absolute_percentage_error(test, predictions)\n",
    "\n",
    "# Calculate Root Mean Squared Error (RMSE)\n",
    "rmse = np.sqrt(mean_squared_error(test, predictions))\n",
    "\n",
    "# Calculate Mean Squared Error (MSE)\n",
    "mse = mean_squared_error(test, predictions)\n",
    "\n",
    "# Print all error metrics\n",
    "print('Test RMSE: %.4f' % rmse)\n",
    "print('Test MAE: %.4f' % mae)\n",
    "print(f\"Mean Absolute Percentage Error (MAPE): {mape:.4f}%\")\n",
    "print('Test MSE: %.4f' % mse)\n"
   ]
  },
  {
   "cell_type": "markdown",
   "id": "acc199a5",
   "metadata": {},
   "source": [
    "# VAR"
   ]
  },
  {
   "cell_type": "code",
   "execution_count": 77,
   "id": "c54fd5ac",
   "metadata": {},
   "outputs": [],
   "source": [
    "def timeseries_evaluation_metrics_func(y_true, y_pred):\n",
    "    \n",
    "    def mean_absolute_percentage_error(y_true, y_pred): \n",
    "        y_true, y_pred = np.array(y_true), np.array(y_pred)\n",
    "        return np.mean(np.abs((y_true - y_pred) / y_true)) * 100\n",
    "    print('Evaluation metric results:-')\n",
    "    print(f'MSE is : {metrics.mean_squared_error(y_true, y_pred)}')\n",
    "    print(f'MAE is : {metrics.mean_absolute_error(y_true, y_pred)}')\n",
    "    print(f'RMSE is : {np.sqrt(metrics.mean_squared_error(y_true, y_pred))}')\n",
    "    print(f'MAPE is : {mean_absolute_percentage_error(y_true, y_pred)}')\n",
    "    print(f'R2 is : {metrics.r2_score(y_true, y_pred)}',end='\\n\\n')"
   ]
  },
  {
   "cell_type": "code",
   "execution_count": 78,
   "id": "40879423",
   "metadata": {},
   "outputs": [],
   "source": [
    "def Augmented_Dickey_Fuller_Test_func(series , column_name):\n",
    "    print (f'Results of Dickey-Fuller Test for column: {column_name}')\n",
    "    dftest = adfuller(series, autolag='AIC')\n",
    "    dfoutput = pd.Series(dftest[0:4], index=['Test Statistic','p-value','No Lags Used','Number of Observations Used'])\n",
    "    for key,value in dftest[4].items():\n",
    "       dfoutput['Critical Value (%s)'%key] = value\n",
    "    print (dfoutput)\n",
    "    if dftest[1] <= 0.05:\n",
    "        print(\"Conclusion:====>\")\n",
    "        print(\"Reject the null hypothesis\")\n",
    "        print(\"Data is stationary\")\n",
    "    else:\n",
    "        print(\"Conclusion:====>\")\n",
    "        print(\"Fail to reject the null hypothesis\")\n",
    "        print(\"Data is non-stationary\")"
   ]
  },
  {
   "cell_type": "code",
   "execution_count": 79,
   "id": "4996fc82",
   "metadata": {},
   "outputs": [
    {
     "data": {
      "text/plain": [
       "Index(['Price', 'Open', 'Close', 'High', 'Low', 'Vol'], dtype='object')"
      ]
     },
     "execution_count": 79,
     "metadata": {},
     "output_type": "execute_result"
    }
   ],
   "source": [
    "data.columns"
   ]
  },
  {
   "cell_type": "code",
   "execution_count": 81,
   "id": "d03c8267",
   "metadata": {
    "scrolled": true
   },
   "outputs": [
    {
     "name": "stdout",
     "output_type": "stream",
     "text": [
      "Results of Dickey-Fuller Test for column: Open\n",
      "Test Statistic                    1.026444\n",
      "p-value                           0.994537\n",
      "No Lags Used                     23.000000\n",
      "Number of Observations Used    2499.000000\n",
      "Critical Value (1%)              -3.432969\n",
      "Critical Value (5%)              -2.862697\n",
      "Critical Value (10%)             -2.567386\n",
      "dtype: float64\n",
      "Conclusion:====>\n",
      "Fail to reject the null hypothesis\n",
      "Data is non-stationary\n",
      "\n",
      "\n",
      "Results of Dickey-Fuller Test for column: High\n",
      "Test Statistic                    0.864314\n",
      "p-value                           0.992606\n",
      "No Lags Used                     22.000000\n",
      "Number of Observations Used    2500.000000\n",
      "Critical Value (1%)              -3.432968\n",
      "Critical Value (5%)              -2.862697\n",
      "Critical Value (10%)             -2.567386\n",
      "dtype: float64\n",
      "Conclusion:====>\n",
      "Fail to reject the null hypothesis\n",
      "Data is non-stationary\n",
      "\n",
      "\n",
      "Results of Dickey-Fuller Test for column: Low\n",
      "Test Statistic                    1.037742\n",
      "p-value                           0.994649\n",
      "No Lags Used                     23.000000\n",
      "Number of Observations Used    2499.000000\n",
      "Critical Value (1%)              -3.432969\n",
      "Critical Value (5%)              -2.862697\n",
      "Critical Value (10%)             -2.567386\n",
      "dtype: float64\n",
      "Conclusion:====>\n",
      "Fail to reject the null hypothesis\n",
      "Data is non-stationary\n",
      "\n",
      "\n",
      "Results of Dickey-Fuller Test for column: Close\n",
      "Test Statistic                    0.863256\n",
      "p-value                           0.992592\n",
      "No Lags Used                     22.000000\n",
      "Number of Observations Used    2500.000000\n",
      "Critical Value (1%)              -3.432968\n",
      "Critical Value (5%)              -2.862697\n",
      "Critical Value (10%)             -2.567386\n",
      "dtype: float64\n",
      "Conclusion:====>\n",
      "Fail to reject the null hypothesis\n",
      "Data is non-stationary\n",
      "\n",
      "\n"
     ]
    }
   ],
   "source": [
    "for name, column in data[['Open', 'High', 'Low', 'Close']].items():\n",
    "    Augmented_Dickey_Fuller_Test_func(column, name)\n",
    "    print('\\n')\n"
   ]
  },
  {
   "cell_type": "code",
   "execution_count": 85,
   "id": "6e9b0365",
   "metadata": {},
   "outputs": [],
   "source": [
    "# Apply differencing to each column in the DataFrame\n",
    "data_diff = data[['Open', 'High', 'Low', 'Close']].diff().dropna()"
   ]
  },
  {
   "cell_type": "code",
   "execution_count": 86,
   "id": "81b3c8a7",
   "metadata": {},
   "outputs": [
    {
     "name": "stdout",
     "output_type": "stream",
     "text": [
      "            Open  High  Low  Close\n",
      "Date                              \n",
      "2010-10-27   0.1   0.0  0.1    0.1\n",
      "2010-10-28   0.0   0.0  0.0    0.0\n",
      "2010-10-29   0.0   0.0  0.0    0.0\n",
      "2010-10-30   0.0   0.0  0.0    0.0\n",
      "2010-10-31   0.0   0.0  0.0    0.0\n"
     ]
    }
   ],
   "source": [
    "# Print the first few rows of the differenced data to verify\n",
    "print(data_diff.head())"
   ]
  },
  {
   "cell_type": "code",
   "execution_count": 88,
   "id": "cb56d2ad",
   "metadata": {},
   "outputs": [
    {
     "name": "stdout",
     "output_type": "stream",
     "text": [
      "Results of Dickey-Fuller Test for column: Open\n",
      "Test Statistic                -1.290481e+01\n",
      "p-value                        4.174604e-24\n",
      "No Lags Used                   2.200000e+01\n",
      "Number of Observations Used    2.499000e+03\n",
      "Critical Value (1%)           -3.432969e+00\n",
      "Critical Value (5%)           -2.862697e+00\n",
      "Critical Value (10%)          -2.567386e+00\n",
      "dtype: float64\n",
      "Conclusion:====>\n",
      "Reject the null hypothesis\n",
      "Data is stationary\n",
      "\n",
      "\n",
      "Results of Dickey-Fuller Test for column: High\n",
      "Test Statistic                -1.305959e+01\n",
      "p-value                        2.060574e-24\n",
      "No Lags Used                   2.100000e+01\n",
      "Number of Observations Used    2.500000e+03\n",
      "Critical Value (1%)           -3.432968e+00\n",
      "Critical Value (5%)           -2.862697e+00\n",
      "Critical Value (10%)          -2.567386e+00\n",
      "dtype: float64\n",
      "Conclusion:====>\n",
      "Reject the null hypothesis\n",
      "Data is stationary\n",
      "\n",
      "\n",
      "Results of Dickey-Fuller Test for column: Low\n",
      "Test Statistic                -1.273157e+01\n",
      "p-value                        9.350913e-24\n",
      "No Lags Used                   2.200000e+01\n",
      "Number of Observations Used    2.499000e+03\n",
      "Critical Value (1%)           -3.432969e+00\n",
      "Critical Value (5%)           -2.862697e+00\n",
      "Critical Value (10%)          -2.567386e+00\n",
      "dtype: float64\n",
      "Conclusion:====>\n",
      "Reject the null hypothesis\n",
      "Data is stationary\n",
      "\n",
      "\n",
      "Results of Dickey-Fuller Test for column: Close\n",
      "Test Statistic                -1.269414e+01\n",
      "p-value                        1.115578e-23\n",
      "No Lags Used                   2.100000e+01\n",
      "Number of Observations Used    2.500000e+03\n",
      "Critical Value (1%)           -3.432968e+00\n",
      "Critical Value (5%)           -2.862697e+00\n",
      "Critical Value (10%)          -2.567386e+00\n",
      "dtype: float64\n",
      "Conclusion:====>\n",
      "Reject the null hypothesis\n",
      "Data is stationary\n",
      "\n",
      "\n"
     ]
    }
   ],
   "source": [
    "# Now, perform the Dickey-Fuller test on the differenced data\n",
    "for name, column in data_diff.items():\n",
    "    Augmented_Dickey_Fuller_Test_func(column, name)\n",
    "    print('\\n')\n"
   ]
  },
  {
   "cell_type": "code",
   "execution_count": 89,
   "id": "07976878",
   "metadata": {},
   "outputs": [],
   "source": [
    "from statsmodels.tsa.vector_ar.vecm import coint_johansen\n",
    "\n",
    "def cointegration_test(df): \n",
    "    res = coint_johansen(df,-1,5)\n",
    "    d = {'0.90':0, '0.95':1, '0.99':2}\n",
    "    traces = res.lr1\n",
    "    cvts = res.cvt[:, d[str(1-0.05)]]\n",
    "    def adjust(val, length= 6): \n",
    "        return str(val).ljust(length)\n",
    "    print('Column Name   >  Test Stat > C(95%)    =>   Signif  \\n', '--'*20)\n",
    "    for col, trace, cvt in zip(df.columns, traces, cvts):\n",
    "        print(adjust(col), '> ', adjust(round(trace,2), 9), \">\", adjust(cvt, 8), ' =>  ' , trace > cvt)"
   ]
  },
  {
   "cell_type": "code",
   "execution_count": 90,
   "id": "54115802",
   "metadata": {},
   "outputs": [
    {
     "name": "stdout",
     "output_type": "stream",
     "text": [
      "Column Name   >  Test Stat > C(95%)    =>   Signif  \n",
      " ----------------------------------------\n",
      "Open   >  8519.47   > 40.1749   =>   True\n",
      "High   >  4843.27   > 24.2761   =>   True\n",
      "Low    >  2575.23   > 12.3212   =>   True\n",
      "Close  >  627.97    > 4.1296    =>   True\n"
     ]
    }
   ],
   "source": [
    "cointegration_test(train_diff[['Open', 'High', 'Low', 'Close']])"
   ]
  },
  {
   "cell_type": "markdown",
   "id": "1b04d62f",
   "metadata": {},
   "source": [
    "Cointegration suggests that there is a stable long-term relationship among the variables"
   ]
  },
  {
   "cell_type": "code",
   "execution_count": 92,
   "id": "9e8979b0",
   "metadata": {},
   "outputs": [
    {
     "name": "stderr",
     "output_type": "stream",
     "text": [
      "  WARNING: The scripts cygdb.exe, cython.exe and cythonize.exe are installed in 'C:\\Users\\Omar\\AppData\\Roaming\\Python\\Python311\\Scripts' which is not on PATH.\n",
      "  Consider adding this directory to PATH or, if you prefer to suppress this warning, use --no-warn-script-location.\n",
      "ERROR: pip's dependency resolver does not currently take into account all the packages that are installed. This behaviour is the source of the following dependency conflicts.\n",
      "tables 3.8.0 requires blosc2~=2.0.0, which is not installed.\n"
     ]
    },
    {
     "name": "stdout",
     "output_type": "stream",
     "text": [
      "Defaulting to user installation because normal site-packages is not writeable\n",
      "Collecting pmdarima\n",
      "  Obtaining dependency information for pmdarima from https://files.pythonhosted.org/packages/ac/f8/6c9364602b13f0dba129b53acd1344859690911a4d5021560d9fd6aa087f/pmdarima-2.0.4-cp311-cp311-win_amd64.whl.metadata\n",
      "  Downloading pmdarima-2.0.4-cp311-cp311-win_amd64.whl.metadata (8.0 kB)\n",
      "Requirement already satisfied: joblib>=0.11 in c:\\programdata\\anaconda3\\lib\\site-packages (from pmdarima) (1.2.0)\n",
      "Collecting Cython!=0.29.18,!=0.29.31,>=0.29 (from pmdarima)\n",
      "  Obtaining dependency information for Cython!=0.29.18,!=0.29.31,>=0.29 from https://files.pythonhosted.org/packages/18/ec/f47a721071d084d6c2b6783eb8d058b964b1450cb708d920d0d792f42001/Cython-3.0.10-cp311-cp311-win_amd64.whl.metadata\n",
      "  Downloading Cython-3.0.10-cp311-cp311-win_amd64.whl.metadata (3.2 kB)\n",
      "Requirement already satisfied: numpy>=1.21.2 in c:\\programdata\\anaconda3\\lib\\site-packages (from pmdarima) (1.24.3)\n",
      "Requirement already satisfied: pandas>=0.19 in c:\\programdata\\anaconda3\\lib\\site-packages (from pmdarima) (2.0.3)\n",
      "Requirement already satisfied: scikit-learn>=0.22 in c:\\programdata\\anaconda3\\lib\\site-packages (from pmdarima) (1.3.0)\n",
      "Requirement already satisfied: scipy>=1.3.2 in c:\\programdata\\anaconda3\\lib\\site-packages (from pmdarima) (1.11.1)\n",
      "Requirement already satisfied: statsmodels>=0.13.2 in c:\\programdata\\anaconda3\\lib\\site-packages (from pmdarima) (0.14.0)\n",
      "Requirement already satisfied: urllib3 in c:\\programdata\\anaconda3\\lib\\site-packages (from pmdarima) (1.26.16)\n",
      "Requirement already satisfied: setuptools!=50.0.0,>=38.6.0 in c:\\programdata\\anaconda3\\lib\\site-packages (from pmdarima) (68.0.0)\n",
      "Requirement already satisfied: packaging>=17.1 in c:\\programdata\\anaconda3\\lib\\site-packages (from pmdarima) (23.1)\n",
      "Requirement already satisfied: python-dateutil>=2.8.2 in c:\\programdata\\anaconda3\\lib\\site-packages (from pandas>=0.19->pmdarima) (2.8.2)\n",
      "Requirement already satisfied: pytz>=2020.1 in c:\\programdata\\anaconda3\\lib\\site-packages (from pandas>=0.19->pmdarima) (2023.3.post1)\n",
      "Requirement already satisfied: tzdata>=2022.1 in c:\\programdata\\anaconda3\\lib\\site-packages (from pandas>=0.19->pmdarima) (2023.3)\n",
      "Requirement already satisfied: threadpoolctl>=2.0.0 in c:\\programdata\\anaconda3\\lib\\site-packages (from scikit-learn>=0.22->pmdarima) (2.2.0)\n",
      "Requirement already satisfied: patsy>=0.5.2 in c:\\programdata\\anaconda3\\lib\\site-packages (from statsmodels>=0.13.2->pmdarima) (0.5.3)\n",
      "Requirement already satisfied: six in c:\\programdata\\anaconda3\\lib\\site-packages (from patsy>=0.5.2->statsmodels>=0.13.2->pmdarima) (1.16.0)\n",
      "Downloading pmdarima-2.0.4-cp311-cp311-win_amd64.whl (614 kB)\n",
      "   ---------------------------------------- 0.0/614.7 kB ? eta -:--:--\n",
      "   - ------------------------------------- 20.5/614.7 kB 330.3 kB/s eta 0:00:02\n",
      "   ---- ---------------------------------- 71.7/614.7 kB 787.7 kB/s eta 0:00:01\n",
      "   ------------- -------------------------- 215.0/614.7 kB 1.6 MB/s eta 0:00:01\n",
      "   ----------------------------- ---------- 460.8/614.7 kB 2.6 MB/s eta 0:00:01\n",
      "   ---------------------------------------  614.4/614.7 kB 3.0 MB/s eta 0:00:01\n",
      "   ---------------------------------------- 614.7/614.7 kB 2.8 MB/s eta 0:00:00\n",
      "Downloading Cython-3.0.10-cp311-cp311-win_amd64.whl (2.8 MB)\n",
      "   ---------------------------------------- 0.0/2.8 MB ? eta -:--:--\n",
      "   ----- ---------------------------------- 0.4/2.8 MB 11.9 MB/s eta 0:00:01\n",
      "   ---------- ----------------------------- 0.7/2.8 MB 9.2 MB/s eta 0:00:01\n",
      "   ----------------- ---------------------- 1.2/2.8 MB 9.7 MB/s eta 0:00:01\n",
      "   ---------------------- ----------------- 1.6/2.8 MB 9.2 MB/s eta 0:00:01\n",
      "   ----------------------------- ---------- 2.1/2.8 MB 9.4 MB/s eta 0:00:01\n",
      "   ---------------------------------- ----- 2.4/2.8 MB 9.1 MB/s eta 0:00:01\n",
      "   ---------------------------------------  2.8/2.8 MB 8.9 MB/s eta 0:00:01\n",
      "   ---------------------------------------- 2.8/2.8 MB 8.5 MB/s eta 0:00:00\n",
      "Installing collected packages: Cython, pmdarima\n",
      "Successfully installed Cython-3.0.10 pmdarima-2.0.4\n"
     ]
    }
   ],
   "source": [
    "!pip install pmdarima\n",
    "\n",
    "from pmdarima import auto_arima"
   ]
  },
  {
   "cell_type": "code",
   "execution_count": 94,
   "id": "48118c7c",
   "metadata": {},
   "outputs": [
    {
     "name": "stdout",
     "output_type": "stream",
     "text": [
      "Searching order of p and q for : Open\n",
      "Performing stepwise search to minimize aic\n",
      " ARIMA(1,0,1)(0,0,0)[0]             : AIC=78777.365, Time=0.46 sec\n",
      " ARIMA(0,0,0)(0,0,0)[0]             : AIC=78776.206, Time=0.06 sec\n",
      " ARIMA(1,0,0)(0,0,0)[0]             : AIC=78775.739, Time=0.07 sec\n",
      " ARIMA(0,0,1)(0,0,0)[0]             : AIC=78775.816, Time=0.17 sec\n",
      " ARIMA(2,0,0)(0,0,0)[0]             : AIC=78776.617, Time=0.10 sec\n",
      " ARIMA(2,0,1)(0,0,0)[0]             : AIC=78771.849, Time=1.09 sec\n",
      " ARIMA(3,0,1)(0,0,0)[0]             : AIC=78771.855, Time=0.77 sec\n",
      " ARIMA(2,0,2)(0,0,0)[0]             : AIC=78749.835, Time=2.25 sec\n",
      " ARIMA(1,0,2)(0,0,0)[0]             : AIC=78771.513, Time=0.58 sec\n",
      " ARIMA(3,0,2)(0,0,0)[0]             : AIC=78775.763, Time=0.48 sec\n",
      " ARIMA(2,0,3)(0,0,0)[0]             : AIC=78751.868, Time=2.75 sec\n",
      " ARIMA(1,0,3)(0,0,0)[0]             : AIC=78771.493, Time=0.77 sec\n",
      " ARIMA(3,0,3)(0,0,0)[0]             : AIC=78757.915, Time=3.18 sec\n",
      " ARIMA(2,0,2)(0,0,0)[0] intercept   : AIC=78763.960, Time=4.02 sec\n",
      "\n",
      "Best model:  ARIMA(2,0,2)(0,0,0)[0]          \n",
      "Total fit time: 16.764 seconds\n",
      "optimal order for:Open is: (2, 0, 2) \n",
      "\n",
      "\n",
      "Searching order of p and q for : High\n",
      "Performing stepwise search to minimize aic\n",
      " ARIMA(1,0,1)(0,0,0)[0]             : AIC=77527.910, Time=0.16 sec\n",
      " ARIMA(0,0,0)(0,0,0)[0]             : AIC=77607.649, Time=0.06 sec\n",
      " ARIMA(1,0,0)(0,0,0)[0]             : AIC=77526.223, Time=0.24 sec\n",
      " ARIMA(0,0,1)(0,0,0)[0]             : AIC=77529.213, Time=0.16 sec\n",
      " ARIMA(2,0,0)(0,0,0)[0]             : AIC=77527.867, Time=0.23 sec\n",
      " ARIMA(2,0,1)(0,0,0)[0]             : AIC=77529.780, Time=0.40 sec\n",
      " ARIMA(1,0,0)(0,0,0)[0] intercept   : AIC=77526.426, Time=0.23 sec\n",
      "\n",
      "Best model:  ARIMA(1,0,0)(0,0,0)[0]          \n",
      "Total fit time: 1.506 seconds\n",
      "optimal order for:High is: (1, 0, 0) \n",
      "\n",
      "\n",
      "Searching order of p and q for : Low\n",
      "Performing stepwise search to minimize aic\n",
      " ARIMA(1,0,1)(0,0,0)[0]             : AIC=79037.574, Time=0.24 sec\n",
      " ARIMA(0,0,0)(0,0,0)[0]             : AIC=79033.742, Time=0.08 sec\n",
      " ARIMA(1,0,0)(0,0,0)[0]             : AIC=79035.575, Time=0.08 sec\n",
      " ARIMA(0,0,1)(0,0,0)[0]             : AIC=79035.574, Time=0.22 sec\n",
      " ARIMA(0,0,0)(0,0,0)[0] intercept   : AIC=79034.160, Time=0.10 sec\n",
      "\n",
      "Best model:  ARIMA(0,0,0)(0,0,0)[0]          \n",
      "Total fit time: 0.726 seconds\n",
      "optimal order for:Low is: (0, 0, 0) \n",
      "\n",
      "\n",
      "Searching order of p and q for : Close\n",
      "Performing stepwise search to minimize aic\n",
      " ARIMA(1,0,1)(0,0,0)[0]             : AIC=78786.813, Time=0.58 sec\n",
      " ARIMA(0,0,0)(0,0,0)[0]             : AIC=78787.226, Time=0.07 sec\n",
      " ARIMA(1,0,0)(0,0,0)[0]             : AIC=78785.537, Time=0.21 sec\n",
      " ARIMA(0,0,1)(0,0,0)[0]             : AIC=78785.668, Time=0.23 sec\n",
      " ARIMA(2,0,0)(0,0,0)[0]             : AIC=78786.042, Time=0.21 sec\n",
      " ARIMA(2,0,1)(0,0,0)[0]             : AIC=78781.889, Time=1.13 sec\n",
      " ARIMA(3,0,1)(0,0,0)[0]             : AIC=78782.710, Time=0.91 sec\n",
      " ARIMA(2,0,2)(0,0,0)[0]             : AIC=78784.193, Time=0.55 sec\n",
      " ARIMA(1,0,2)(0,0,0)[0]             : AIC=78781.613, Time=0.37 sec\n",
      " ARIMA(0,0,2)(0,0,0)[0]             : AIC=78785.922, Time=0.21 sec\n",
      " ARIMA(1,0,3)(0,0,0)[0]             : AIC=78782.390, Time=0.90 sec\n",
      " ARIMA(0,0,3)(0,0,0)[0]             : AIC=78785.121, Time=0.23 sec\n",
      " ARIMA(2,0,3)(0,0,0)[0]             : AIC=78761.076, Time=3.11 sec\n",
      " ARIMA(3,0,3)(0,0,0)[0]             : AIC=78762.786, Time=2.66 sec\n",
      " ARIMA(2,0,4)(0,0,0)[0]             : AIC=78757.649, Time=3.39 sec\n",
      " ARIMA(1,0,4)(0,0,0)[0]             : AIC=78782.216, Time=1.07 sec\n",
      " ARIMA(3,0,4)(0,0,0)[0]             : AIC=inf, Time=6.16 sec\n",
      " ARIMA(2,0,5)(0,0,0)[0]             : AIC=78764.752, Time=3.85 sec\n",
      " ARIMA(1,0,5)(0,0,0)[0]             : AIC=78784.243, Time=0.51 sec\n",
      " ARIMA(3,0,5)(0,0,0)[0]             : AIC=78761.450, Time=3.25 sec\n",
      " ARIMA(2,0,4)(0,0,0)[0] intercept   : AIC=78758.008, Time=8.97 sec\n",
      "\n",
      "Best model:  ARIMA(2,0,4)(0,0,0)[0]          \n",
      "Total fit time: 38.602 seconds\n",
      "optimal order for:Close is: (2, 0, 4) \n",
      "\n",
      "\n"
     ]
    }
   ],
   "source": [
    "pq = []\n",
    "for name, column in train_diff[[ 'Open', 'High', 'Low', 'Close'  ]].items():\n",
    "    print(f'Searching order of p and q for : {name}')\n",
    "    stepwise_model = auto_arima(train_diff[name],start_p=1, start_q=1,max_p=7, max_q=7, seasonal=False,\n",
    "        trace=True,error_action='ignore',suppress_warnings=True, stepwise=True,maxiter=1000)\n",
    "    parameter = stepwise_model.get_params().get('order')\n",
    "    print(f'optimal order for:{name} is: {parameter} \\n\\n')\n",
    "    pq.append(stepwise_model.get_params().get('order'))\n",
    "\n"
   ]
  },
  {
   "cell_type": "code",
   "execution_count": 95,
   "id": "bf429fac",
   "metadata": {},
   "outputs": [],
   "source": [
    "def inverse_diff(actual_df, pred_df):\n",
    "    df_res = pred_df.copy()\n",
    "    columns = actual_df.columns\n",
    "    for col in columns: \n",
    "        df_res[str(col)+'_1st_inv_diff'] = actual_df[col].iloc[-1] + df_res[str(col)].cumsum()\n",
    "    return df_res\n"
   ]
  },
  {
   "cell_type": "code",
   "execution_count": 96,
   "id": "cf77ef4c",
   "metadata": {},
   "outputs": [
    {
     "data": {
      "text/plain": [
       "[(2, 0, 2), (1, 0, 0), (0, 0, 0), (2, 0, 4)]"
      ]
     },
     "execution_count": 96,
     "metadata": {},
     "output_type": "execute_result"
    }
   ],
   "source": [
    "pq"
   ]
  },
  {
   "cell_type": "code",
   "execution_count": 98,
   "id": "92630939",
   "metadata": {},
   "outputs": [
    {
     "name": "stdout",
     "output_type": "stream",
     "text": [
      "Grid Search Started\n",
      "Grid Search Finished in 0.020300626754760742 seconds\n"
     ]
    },
    {
     "name": "stderr",
     "output_type": "stream",
     "text": [
      "C:\\ProgramData\\anaconda3\\Lib\\site-packages\\statsmodels\\tsa\\base\\tsa_model.py:473: ValueWarning: No frequency information was provided, so inferred frequency D will be used.\n",
      "  self._init_dates(dates, freq)\n",
      "C:\\ProgramData\\anaconda3\\Lib\\site-packages\\statsmodels\\tsa\\base\\tsa_model.py:473: ValueWarning: No frequency information was provided, so inferred frequency D will be used.\n",
      "  self._init_dates(dates, freq)\n",
      "C:\\ProgramData\\anaconda3\\Lib\\site-packages\\statsmodels\\tsa\\base\\tsa_model.py:473: ValueWarning: No frequency information was provided, so inferred frequency D will be used.\n",
      "  self._init_dates(dates, freq)\n",
      "C:\\ProgramData\\anaconda3\\Lib\\site-packages\\statsmodels\\tsa\\base\\tsa_model.py:473: ValueWarning: No frequency information was provided, so inferred frequency D will be used.\n",
      "  self._init_dates(dates, freq)\n",
      "C:\\ProgramData\\anaconda3\\Lib\\site-packages\\statsmodels\\tsa\\base\\tsa_model.py:473: ValueWarning: No frequency information was provided, so inferred frequency D will be used.\n",
      "  self._init_dates(dates, freq)\n",
      "C:\\ProgramData\\anaconda3\\Lib\\site-packages\\statsmodels\\tsa\\base\\tsa_model.py:473: ValueWarning: No frequency information was provided, so inferred frequency D will be used.\n",
      "  self._init_dates(dates, freq)\n",
      "C:\\ProgramData\\anaconda3\\Lib\\site-packages\\statsmodels\\tsa\\base\\tsa_model.py:473: ValueWarning: No frequency information was provided, so inferred frequency D will be used.\n",
      "  self._init_dates(dates, freq)\n",
      "C:\\ProgramData\\anaconda3\\Lib\\site-packages\\statsmodels\\tsa\\base\\tsa_model.py:473: ValueWarning: No frequency information was provided, so inferred frequency D will be used.\n",
      "  self._init_dates(dates, freq)\n",
      "C:\\ProgramData\\anaconda3\\Lib\\site-packages\\statsmodels\\tsa\\base\\tsa_model.py:473: ValueWarning: No frequency information was provided, so inferred frequency D will be used.\n",
      "  self._init_dates(dates, freq)\n"
     ]
    }
   ],
   "source": [
    "\n",
    "import time\n",
    "\n",
    "df_results_moni = pd.DataFrame(columns=['p', 'q','RMSE Open','RMSE High','RMSE Low','RMSE Close'])\n",
    "print('Grid Search Started')\n",
    "start = time.time()  # Use time.time() to start the timer\n",
    "for i in pq:\n",
    "    if i[0]== 0 and i[2] ==0:\n",
    "        continue\n",
    "    try:\n",
    "        model = ARIMA(train_diff['Open'], order=(i[0],1,i[2])).fit(disp=0)\n",
    "        predictions = model.predict(start=len(train_diff), end=len(train_diff)+len(test_diff)-1, typ='levels')\n",
    "        df_results_moni = df_results_moni.append({'p': i[0], 'q': i[2],\n",
    "                                                  'RMSE Open':np.sqrt(mean_squared_error(test_diff['Open'], predictions)),\n",
    "                                                  'RMSE High': np.sqrt(mean_squared_error(test_diff['High'],predictions)),\n",
    "                                                  'RMSE Low': np.sqrt(mean_squared_error(test_diff['Low'],predictions)),\n",
    "                                                  'RMSE Close':np.sqrt(mean_squared_error(test_diff['Close'],predictions))}, ignore_index=True)\n",
    "    except:\n",
    "        continue\n",
    "\n",
    "end = time.time()  # Use time.time() to end the timer\n",
    "print(f\"Grid Search Finished in {end - start} seconds\")  # Print the elapsed time\n"
   ]
  },
  {
   "cell_type": "code",
   "execution_count": 100,
   "id": "55aaa6f3",
   "metadata": {},
   "outputs": [
    {
     "data": {
      "text/html": [
       "<div>\n",
       "<style scoped>\n",
       "    .dataframe tbody tr th:only-of-type {\n",
       "        vertical-align: middle;\n",
       "    }\n",
       "\n",
       "    .dataframe tbody tr th {\n",
       "        vertical-align: top;\n",
       "    }\n",
       "\n",
       "    .dataframe thead th {\n",
       "        text-align: right;\n",
       "    }\n",
       "</style>\n",
       "<table border=\"1\" class=\"dataframe\">\n",
       "  <thead>\n",
       "    <tr style=\"text-align: right;\">\n",
       "      <th></th>\n",
       "      <th>p</th>\n",
       "      <th>q</th>\n",
       "      <th>RMSE Open</th>\n",
       "      <th>RMSE High</th>\n",
       "      <th>RMSE Low</th>\n",
       "      <th>RMSE Close</th>\n",
       "    </tr>\n",
       "  </thead>\n",
       "  <tbody>\n",
       "  </tbody>\n",
       "</table>\n",
       "</div>"
      ],
      "text/plain": [
       "Empty DataFrame\n",
       "Columns: [p, q, RMSE Open, RMSE High, RMSE Low, RMSE Close]\n",
       "Index: []"
      ]
     },
     "execution_count": 100,
     "metadata": {},
     "output_type": "execute_result"
    }
   ],
   "source": [
    "df_results_moni.sort_values(by=['RMSE Open', 'RMSE High', 'RMSE Low', 'RMSE Close'], ascending=False)\n"
   ]
  },
  {
   "cell_type": "code",
   "execution_count": 102,
   "id": "bd2e934c",
   "metadata": {},
   "outputs": [
    {
     "name": "stderr",
     "output_type": "stream",
     "text": [
      "C:\\ProgramData\\anaconda3\\Lib\\site-packages\\statsmodels\\tsa\\base\\tsa_model.py:473: ValueWarning: No frequency information was provided, so inferred frequency D will be used.\n",
      "  self._init_dates(dates, freq)\n",
      "C:\\ProgramData\\anaconda3\\Lib\\site-packages\\statsmodels\\base\\model.py:607: ConvergenceWarning: Maximum Likelihood optimization failed to converge. Check mle_retvals\n",
      "  warnings.warn(\"Maximum Likelihood optimization failed to \"\n"
     ]
    },
    {
     "name": "stdout",
     "output_type": "stream",
     "text": [
      "                   Open         High          Low       Close\n",
      "2024-03-01 -1244.712047 -1241.060828 -1070.495508 -907.374454\n",
      "2024-03-02  -901.631691  -126.701965  -620.460871   44.253227\n",
      "2024-03-03    12.544060    12.797551    12.166049   12.311508\n",
      "2024-03-04    12.544060    12.797551    12.166049   12.311508\n",
      "2024-03-05    12.544060    12.797551    12.166049   12.311508\n",
      "2024-03-06    12.544060    12.797551    12.166049   12.311508\n",
      "2024-03-07    12.544060    12.797551    12.166049   12.311508\n",
      "2024-03-08    12.544060    12.797551    12.166049   12.311508\n",
      "2024-03-09    12.544060    12.797551    12.166049   12.311508\n",
      "2024-03-10    12.544060    12.797551    12.166049   12.311508\n",
      "2024-03-11    12.544060    12.797551    12.166049   12.311508\n",
      "2024-03-12    12.544060    12.797551    12.166049   12.311508\n",
      "2024-03-13    12.544060    12.797551    12.166049   12.311508\n",
      "2024-03-14    12.544060    12.797551    12.166049   12.311508\n",
      "2024-03-15    12.544060    12.797551    12.166049   12.311508\n",
      "2024-03-16    12.544060    12.797551    12.166049   12.311508\n",
      "2024-03-17    12.544060    12.797551    12.166049   12.311508\n",
      "2024-03-18    12.544060    12.797551    12.166049   12.311508\n",
      "2024-03-19    12.544060    12.797551    12.166049   12.311508\n",
      "2024-03-20    12.544060    12.797551    12.166049   12.311508\n",
      "2024-03-21    12.544060    12.797551    12.166049   12.311508\n",
      "2024-03-22    12.544060    12.797551    12.166049   12.311508\n",
      "2024-03-23    12.544060    12.797551    12.166049   12.311508\n",
      "2024-03-24    12.544060    12.797551    12.166049   12.311508\n",
      "2024-03-25    12.544060    12.797551    12.166049   12.311508\n",
      "2024-03-26    12.544060    12.797551    12.166049   12.311508\n",
      "2024-03-27    12.544060    12.797551    12.166049   12.311508\n",
      "2024-03-28    12.544060    12.797551    12.166049   12.311508\n",
      "2024-03-29    12.544060    12.797551    12.166049   12.311508\n",
      "2024-03-30    12.544060    12.797551    12.166049   12.311508\n"
     ]
    }
   ],
   "source": [
    "# from above example we can see that p=0 and q=2 gives least RMSE\n",
    "from statsmodels.tsa.statespace.varmax import VARMAX  # Import VARMAX model class\n",
    "\n",
    "# Define and fit the VARMAX model\n",
    "model = VARMAX(train_diff[['Open', 'High', 'Low', 'Close']], order=(0, 2)).fit(disp=False)\n",
    "result = model.forecast(steps=30)  # Forecast future steps\n",
    "\n",
    "# Print the forecast result\n",
    "print(result)\n"
   ]
  },
  {
   "cell_type": "code",
   "execution_count": 103,
   "id": "a2266a3f",
   "metadata": {},
   "outputs": [],
   "source": [
    "res = inverse_diff(df[['Open', 'High', 'Low', 'Close' ]],result)"
   ]
  },
  {
   "cell_type": "code",
   "execution_count": 104,
   "id": "85529582",
   "metadata": {},
   "outputs": [
    {
     "data": {
      "text/html": [
       "<div>\n",
       "<style scoped>\n",
       "    .dataframe tbody tr th:only-of-type {\n",
       "        vertical-align: middle;\n",
       "    }\n",
       "\n",
       "    .dataframe tbody tr th {\n",
       "        vertical-align: top;\n",
       "    }\n",
       "\n",
       "    .dataframe thead th {\n",
       "        text-align: right;\n",
       "    }\n",
       "</style>\n",
       "<table border=\"1\" class=\"dataframe\">\n",
       "  <thead>\n",
       "    <tr style=\"text-align: right;\">\n",
       "      <th></th>\n",
       "      <th>Open</th>\n",
       "      <th>High</th>\n",
       "      <th>Low</th>\n",
       "      <th>Close</th>\n",
       "      <th>Open_1st_inv_diff</th>\n",
       "      <th>High_1st_inv_diff</th>\n",
       "      <th>Low_1st_inv_diff</th>\n",
       "      <th>Close_1st_inv_diff</th>\n",
       "    </tr>\n",
       "  </thead>\n",
       "  <tbody>\n",
       "    <tr>\n",
       "      <th>2024-03-01</th>\n",
       "      <td>-1244.712047</td>\n",
       "      <td>-1241.060828</td>\n",
       "      <td>-1070.495508</td>\n",
       "      <td>-907.374454</td>\n",
       "      <td>68627.587953</td>\n",
       "      <td>69080.139172</td>\n",
       "      <td>68665.604492</td>\n",
       "      <td>69216.465546</td>\n",
       "    </tr>\n",
       "    <tr>\n",
       "      <th>2024-03-02</th>\n",
       "      <td>-901.631691</td>\n",
       "      <td>-126.701965</td>\n",
       "      <td>-620.460871</td>\n",
       "      <td>44.253227</td>\n",
       "      <td>67725.956262</td>\n",
       "      <td>68953.437206</td>\n",
       "      <td>68045.143621</td>\n",
       "      <td>69260.718773</td>\n",
       "    </tr>\n",
       "    <tr>\n",
       "      <th>2024-03-03</th>\n",
       "      <td>12.544060</td>\n",
       "      <td>12.797551</td>\n",
       "      <td>12.166049</td>\n",
       "      <td>12.311508</td>\n",
       "      <td>67738.500322</td>\n",
       "      <td>68966.234757</td>\n",
       "      <td>68057.309669</td>\n",
       "      <td>69273.030281</td>\n",
       "    </tr>\n",
       "    <tr>\n",
       "      <th>2024-03-04</th>\n",
       "      <td>12.544060</td>\n",
       "      <td>12.797551</td>\n",
       "      <td>12.166049</td>\n",
       "      <td>12.311508</td>\n",
       "      <td>67751.044382</td>\n",
       "      <td>68979.032308</td>\n",
       "      <td>68069.475718</td>\n",
       "      <td>69285.341789</td>\n",
       "    </tr>\n",
       "    <tr>\n",
       "      <th>2024-03-05</th>\n",
       "      <td>12.544060</td>\n",
       "      <td>12.797551</td>\n",
       "      <td>12.166049</td>\n",
       "      <td>12.311508</td>\n",
       "      <td>67763.588442</td>\n",
       "      <td>68991.829859</td>\n",
       "      <td>68081.641766</td>\n",
       "      <td>69297.653296</td>\n",
       "    </tr>\n",
       "    <tr>\n",
       "      <th>2024-03-06</th>\n",
       "      <td>12.544060</td>\n",
       "      <td>12.797551</td>\n",
       "      <td>12.166049</td>\n",
       "      <td>12.311508</td>\n",
       "      <td>67776.132502</td>\n",
       "      <td>69004.627410</td>\n",
       "      <td>68093.807815</td>\n",
       "      <td>69309.964804</td>\n",
       "    </tr>\n",
       "    <tr>\n",
       "      <th>2024-03-07</th>\n",
       "      <td>12.544060</td>\n",
       "      <td>12.797551</td>\n",
       "      <td>12.166049</td>\n",
       "      <td>12.311508</td>\n",
       "      <td>67788.676563</td>\n",
       "      <td>69017.424961</td>\n",
       "      <td>68105.973864</td>\n",
       "      <td>69322.276312</td>\n",
       "    </tr>\n",
       "    <tr>\n",
       "      <th>2024-03-08</th>\n",
       "      <td>12.544060</td>\n",
       "      <td>12.797551</td>\n",
       "      <td>12.166049</td>\n",
       "      <td>12.311508</td>\n",
       "      <td>67801.220623</td>\n",
       "      <td>69030.222512</td>\n",
       "      <td>68118.139912</td>\n",
       "      <td>69334.587820</td>\n",
       "    </tr>\n",
       "    <tr>\n",
       "      <th>2024-03-09</th>\n",
       "      <td>12.544060</td>\n",
       "      <td>12.797551</td>\n",
       "      <td>12.166049</td>\n",
       "      <td>12.311508</td>\n",
       "      <td>67813.764683</td>\n",
       "      <td>69043.020063</td>\n",
       "      <td>68130.305961</td>\n",
       "      <td>69346.899327</td>\n",
       "    </tr>\n",
       "    <tr>\n",
       "      <th>2024-03-10</th>\n",
       "      <td>12.544060</td>\n",
       "      <td>12.797551</td>\n",
       "      <td>12.166049</td>\n",
       "      <td>12.311508</td>\n",
       "      <td>67826.308743</td>\n",
       "      <td>69055.817614</td>\n",
       "      <td>68142.472009</td>\n",
       "      <td>69359.210835</td>\n",
       "    </tr>\n",
       "    <tr>\n",
       "      <th>2024-03-11</th>\n",
       "      <td>12.544060</td>\n",
       "      <td>12.797551</td>\n",
       "      <td>12.166049</td>\n",
       "      <td>12.311508</td>\n",
       "      <td>67838.852803</td>\n",
       "      <td>69068.615165</td>\n",
       "      <td>68154.638058</td>\n",
       "      <td>69371.522343</td>\n",
       "    </tr>\n",
       "    <tr>\n",
       "      <th>2024-03-12</th>\n",
       "      <td>12.544060</td>\n",
       "      <td>12.797551</td>\n",
       "      <td>12.166049</td>\n",
       "      <td>12.311508</td>\n",
       "      <td>67851.396863</td>\n",
       "      <td>69081.412716</td>\n",
       "      <td>68166.804106</td>\n",
       "      <td>69383.833850</td>\n",
       "    </tr>\n",
       "    <tr>\n",
       "      <th>2024-03-13</th>\n",
       "      <td>12.544060</td>\n",
       "      <td>12.797551</td>\n",
       "      <td>12.166049</td>\n",
       "      <td>12.311508</td>\n",
       "      <td>67863.940923</td>\n",
       "      <td>69094.210267</td>\n",
       "      <td>68178.970155</td>\n",
       "      <td>69396.145358</td>\n",
       "    </tr>\n",
       "    <tr>\n",
       "      <th>2024-03-14</th>\n",
       "      <td>12.544060</td>\n",
       "      <td>12.797551</td>\n",
       "      <td>12.166049</td>\n",
       "      <td>12.311508</td>\n",
       "      <td>67876.484984</td>\n",
       "      <td>69107.007818</td>\n",
       "      <td>68191.136204</td>\n",
       "      <td>69408.456866</td>\n",
       "    </tr>\n",
       "    <tr>\n",
       "      <th>2024-03-15</th>\n",
       "      <td>12.544060</td>\n",
       "      <td>12.797551</td>\n",
       "      <td>12.166049</td>\n",
       "      <td>12.311508</td>\n",
       "      <td>67889.029044</td>\n",
       "      <td>69119.805369</td>\n",
       "      <td>68203.302252</td>\n",
       "      <td>69420.768374</td>\n",
       "    </tr>\n",
       "    <tr>\n",
       "      <th>2024-03-16</th>\n",
       "      <td>12.544060</td>\n",
       "      <td>12.797551</td>\n",
       "      <td>12.166049</td>\n",
       "      <td>12.311508</td>\n",
       "      <td>67901.573104</td>\n",
       "      <td>69132.602920</td>\n",
       "      <td>68215.468301</td>\n",
       "      <td>69433.079881</td>\n",
       "    </tr>\n",
       "    <tr>\n",
       "      <th>2024-03-17</th>\n",
       "      <td>12.544060</td>\n",
       "      <td>12.797551</td>\n",
       "      <td>12.166049</td>\n",
       "      <td>12.311508</td>\n",
       "      <td>67914.117164</td>\n",
       "      <td>69145.400471</td>\n",
       "      <td>68227.634349</td>\n",
       "      <td>69445.391389</td>\n",
       "    </tr>\n",
       "    <tr>\n",
       "      <th>2024-03-18</th>\n",
       "      <td>12.544060</td>\n",
       "      <td>12.797551</td>\n",
       "      <td>12.166049</td>\n",
       "      <td>12.311508</td>\n",
       "      <td>67926.661224</td>\n",
       "      <td>69158.198021</td>\n",
       "      <td>68239.800398</td>\n",
       "      <td>69457.702897</td>\n",
       "    </tr>\n",
       "    <tr>\n",
       "      <th>2024-03-19</th>\n",
       "      <td>12.544060</td>\n",
       "      <td>12.797551</td>\n",
       "      <td>12.166049</td>\n",
       "      <td>12.311508</td>\n",
       "      <td>67939.205284</td>\n",
       "      <td>69170.995572</td>\n",
       "      <td>68251.966446</td>\n",
       "      <td>69470.014405</td>\n",
       "    </tr>\n",
       "    <tr>\n",
       "      <th>2024-03-20</th>\n",
       "      <td>12.544060</td>\n",
       "      <td>12.797551</td>\n",
       "      <td>12.166049</td>\n",
       "      <td>12.311508</td>\n",
       "      <td>67951.749344</td>\n",
       "      <td>69183.793123</td>\n",
       "      <td>68264.132495</td>\n",
       "      <td>69482.325912</td>\n",
       "    </tr>\n",
       "    <tr>\n",
       "      <th>2024-03-21</th>\n",
       "      <td>12.544060</td>\n",
       "      <td>12.797551</td>\n",
       "      <td>12.166049</td>\n",
       "      <td>12.311508</td>\n",
       "      <td>67964.293404</td>\n",
       "      <td>69196.590674</td>\n",
       "      <td>68276.298544</td>\n",
       "      <td>69494.637420</td>\n",
       "    </tr>\n",
       "    <tr>\n",
       "      <th>2024-03-22</th>\n",
       "      <td>12.544060</td>\n",
       "      <td>12.797551</td>\n",
       "      <td>12.166049</td>\n",
       "      <td>12.311508</td>\n",
       "      <td>67976.837465</td>\n",
       "      <td>69209.388225</td>\n",
       "      <td>68288.464592</td>\n",
       "      <td>69506.948928</td>\n",
       "    </tr>\n",
       "    <tr>\n",
       "      <th>2024-03-23</th>\n",
       "      <td>12.544060</td>\n",
       "      <td>12.797551</td>\n",
       "      <td>12.166049</td>\n",
       "      <td>12.311508</td>\n",
       "      <td>67989.381525</td>\n",
       "      <td>69222.185776</td>\n",
       "      <td>68300.630641</td>\n",
       "      <td>69519.260436</td>\n",
       "    </tr>\n",
       "    <tr>\n",
       "      <th>2024-03-24</th>\n",
       "      <td>12.544060</td>\n",
       "      <td>12.797551</td>\n",
       "      <td>12.166049</td>\n",
       "      <td>12.311508</td>\n",
       "      <td>68001.925585</td>\n",
       "      <td>69234.983327</td>\n",
       "      <td>68312.796689</td>\n",
       "      <td>69531.571943</td>\n",
       "    </tr>\n",
       "    <tr>\n",
       "      <th>2024-03-25</th>\n",
       "      <td>12.544060</td>\n",
       "      <td>12.797551</td>\n",
       "      <td>12.166049</td>\n",
       "      <td>12.311508</td>\n",
       "      <td>68014.469645</td>\n",
       "      <td>69247.780878</td>\n",
       "      <td>68324.962738</td>\n",
       "      <td>69543.883451</td>\n",
       "    </tr>\n",
       "    <tr>\n",
       "      <th>2024-03-26</th>\n",
       "      <td>12.544060</td>\n",
       "      <td>12.797551</td>\n",
       "      <td>12.166049</td>\n",
       "      <td>12.311508</td>\n",
       "      <td>68027.013705</td>\n",
       "      <td>69260.578429</td>\n",
       "      <td>68337.128786</td>\n",
       "      <td>69556.194959</td>\n",
       "    </tr>\n",
       "    <tr>\n",
       "      <th>2024-03-27</th>\n",
       "      <td>12.544060</td>\n",
       "      <td>12.797551</td>\n",
       "      <td>12.166049</td>\n",
       "      <td>12.311508</td>\n",
       "      <td>68039.557765</td>\n",
       "      <td>69273.375980</td>\n",
       "      <td>68349.294835</td>\n",
       "      <td>69568.506467</td>\n",
       "    </tr>\n",
       "    <tr>\n",
       "      <th>2024-03-28</th>\n",
       "      <td>12.544060</td>\n",
       "      <td>12.797551</td>\n",
       "      <td>12.166049</td>\n",
       "      <td>12.311508</td>\n",
       "      <td>68052.101825</td>\n",
       "      <td>69286.173531</td>\n",
       "      <td>68361.460884</td>\n",
       "      <td>69580.817974</td>\n",
       "    </tr>\n",
       "    <tr>\n",
       "      <th>2024-03-29</th>\n",
       "      <td>12.544060</td>\n",
       "      <td>12.797551</td>\n",
       "      <td>12.166049</td>\n",
       "      <td>12.311508</td>\n",
       "      <td>68064.645886</td>\n",
       "      <td>69298.971082</td>\n",
       "      <td>68373.626932</td>\n",
       "      <td>69593.129482</td>\n",
       "    </tr>\n",
       "    <tr>\n",
       "      <th>2024-03-30</th>\n",
       "      <td>12.544060</td>\n",
       "      <td>12.797551</td>\n",
       "      <td>12.166049</td>\n",
       "      <td>12.311508</td>\n",
       "      <td>68077.189946</td>\n",
       "      <td>69311.768633</td>\n",
       "      <td>68385.792981</td>\n",
       "      <td>69605.440990</td>\n",
       "    </tr>\n",
       "  </tbody>\n",
       "</table>\n",
       "</div>"
      ],
      "text/plain": [
       "                   Open         High          Low       Close  \\\n",
       "2024-03-01 -1244.712047 -1241.060828 -1070.495508 -907.374454   \n",
       "2024-03-02  -901.631691  -126.701965  -620.460871   44.253227   \n",
       "2024-03-03    12.544060    12.797551    12.166049   12.311508   \n",
       "2024-03-04    12.544060    12.797551    12.166049   12.311508   \n",
       "2024-03-05    12.544060    12.797551    12.166049   12.311508   \n",
       "2024-03-06    12.544060    12.797551    12.166049   12.311508   \n",
       "2024-03-07    12.544060    12.797551    12.166049   12.311508   \n",
       "2024-03-08    12.544060    12.797551    12.166049   12.311508   \n",
       "2024-03-09    12.544060    12.797551    12.166049   12.311508   \n",
       "2024-03-10    12.544060    12.797551    12.166049   12.311508   \n",
       "2024-03-11    12.544060    12.797551    12.166049   12.311508   \n",
       "2024-03-12    12.544060    12.797551    12.166049   12.311508   \n",
       "2024-03-13    12.544060    12.797551    12.166049   12.311508   \n",
       "2024-03-14    12.544060    12.797551    12.166049   12.311508   \n",
       "2024-03-15    12.544060    12.797551    12.166049   12.311508   \n",
       "2024-03-16    12.544060    12.797551    12.166049   12.311508   \n",
       "2024-03-17    12.544060    12.797551    12.166049   12.311508   \n",
       "2024-03-18    12.544060    12.797551    12.166049   12.311508   \n",
       "2024-03-19    12.544060    12.797551    12.166049   12.311508   \n",
       "2024-03-20    12.544060    12.797551    12.166049   12.311508   \n",
       "2024-03-21    12.544060    12.797551    12.166049   12.311508   \n",
       "2024-03-22    12.544060    12.797551    12.166049   12.311508   \n",
       "2024-03-23    12.544060    12.797551    12.166049   12.311508   \n",
       "2024-03-24    12.544060    12.797551    12.166049   12.311508   \n",
       "2024-03-25    12.544060    12.797551    12.166049   12.311508   \n",
       "2024-03-26    12.544060    12.797551    12.166049   12.311508   \n",
       "2024-03-27    12.544060    12.797551    12.166049   12.311508   \n",
       "2024-03-28    12.544060    12.797551    12.166049   12.311508   \n",
       "2024-03-29    12.544060    12.797551    12.166049   12.311508   \n",
       "2024-03-30    12.544060    12.797551    12.166049   12.311508   \n",
       "\n",
       "            Open_1st_inv_diff  High_1st_inv_diff  Low_1st_inv_diff  \\\n",
       "2024-03-01       68627.587953       69080.139172      68665.604492   \n",
       "2024-03-02       67725.956262       68953.437206      68045.143621   \n",
       "2024-03-03       67738.500322       68966.234757      68057.309669   \n",
       "2024-03-04       67751.044382       68979.032308      68069.475718   \n",
       "2024-03-05       67763.588442       68991.829859      68081.641766   \n",
       "2024-03-06       67776.132502       69004.627410      68093.807815   \n",
       "2024-03-07       67788.676563       69017.424961      68105.973864   \n",
       "2024-03-08       67801.220623       69030.222512      68118.139912   \n",
       "2024-03-09       67813.764683       69043.020063      68130.305961   \n",
       "2024-03-10       67826.308743       69055.817614      68142.472009   \n",
       "2024-03-11       67838.852803       69068.615165      68154.638058   \n",
       "2024-03-12       67851.396863       69081.412716      68166.804106   \n",
       "2024-03-13       67863.940923       69094.210267      68178.970155   \n",
       "2024-03-14       67876.484984       69107.007818      68191.136204   \n",
       "2024-03-15       67889.029044       69119.805369      68203.302252   \n",
       "2024-03-16       67901.573104       69132.602920      68215.468301   \n",
       "2024-03-17       67914.117164       69145.400471      68227.634349   \n",
       "2024-03-18       67926.661224       69158.198021      68239.800398   \n",
       "2024-03-19       67939.205284       69170.995572      68251.966446   \n",
       "2024-03-20       67951.749344       69183.793123      68264.132495   \n",
       "2024-03-21       67964.293404       69196.590674      68276.298544   \n",
       "2024-03-22       67976.837465       69209.388225      68288.464592   \n",
       "2024-03-23       67989.381525       69222.185776      68300.630641   \n",
       "2024-03-24       68001.925585       69234.983327      68312.796689   \n",
       "2024-03-25       68014.469645       69247.780878      68324.962738   \n",
       "2024-03-26       68027.013705       69260.578429      68337.128786   \n",
       "2024-03-27       68039.557765       69273.375980      68349.294835   \n",
       "2024-03-28       68052.101825       69286.173531      68361.460884   \n",
       "2024-03-29       68064.645886       69298.971082      68373.626932   \n",
       "2024-03-30       68077.189946       69311.768633      68385.792981   \n",
       "\n",
       "            Close_1st_inv_diff  \n",
       "2024-03-01        69216.465546  \n",
       "2024-03-02        69260.718773  \n",
       "2024-03-03        69273.030281  \n",
       "2024-03-04        69285.341789  \n",
       "2024-03-05        69297.653296  \n",
       "2024-03-06        69309.964804  \n",
       "2024-03-07        69322.276312  \n",
       "2024-03-08        69334.587820  \n",
       "2024-03-09        69346.899327  \n",
       "2024-03-10        69359.210835  \n",
       "2024-03-11        69371.522343  \n",
       "2024-03-12        69383.833850  \n",
       "2024-03-13        69396.145358  \n",
       "2024-03-14        69408.456866  \n",
       "2024-03-15        69420.768374  \n",
       "2024-03-16        69433.079881  \n",
       "2024-03-17        69445.391389  \n",
       "2024-03-18        69457.702897  \n",
       "2024-03-19        69470.014405  \n",
       "2024-03-20        69482.325912  \n",
       "2024-03-21        69494.637420  \n",
       "2024-03-22        69506.948928  \n",
       "2024-03-23        69519.260436  \n",
       "2024-03-24        69531.571943  \n",
       "2024-03-25        69543.883451  \n",
       "2024-03-26        69556.194959  \n",
       "2024-03-27        69568.506467  \n",
       "2024-03-28        69580.817974  \n",
       "2024-03-29        69593.129482  \n",
       "2024-03-30        69605.440990  "
      ]
     },
     "execution_count": 104,
     "metadata": {},
     "output_type": "execute_result"
    }
   ],
   "source": [
    "res"
   ]
  },
  {
   "cell_type": "code",
   "execution_count": 107,
   "id": "87a0dc83",
   "metadata": {},
   "outputs": [
    {
     "name": "stdout",
     "output_type": "stream",
     "text": [
      "Evaluation metric for Open\n",
      "Evaluation metric results:-\n",
      "MSE is : 11169809.359443406\n",
      "MAE is : 2701.5229361155452\n",
      "RMSE is : 3342.1264726882205\n",
      "MAPE is : 4.099161234920149%\n",
      "Evaluation metric for High\n",
      "Evaluation metric results:-\n",
      "MSE is : 8119940.168113697\n",
      "MAE is : 2221.402609888639\n",
      "RMSE is : 2849.550871297738\n",
      "MAPE is : 3.2482488961112534%\n",
      "Evaluation metric for Low\n",
      "Evaluation metric results:-\n",
      "MSE is : 17460904.45336362\n",
      "MAE is : 3313.103714251193\n",
      "RMSE is : 4178.624708365614\n",
      "MAPE is : 5.247567341360345%\n",
      "Evaluation metric for Close\n",
      "Evaluation metric results:-\n",
      "MSE is : 12742331.138760826\n",
      "MAE is : 2723.899771430193\n",
      "RMSE is : 3569.6401973813586\n",
      "MAPE is : 4.17095276033819%\n"
     ]
    }
   ],
   "source": [
    "from sklearn import metrics  # Import the metrics module\n",
    "\n",
    "# Define a function to calculate evaluation metrics\n",
    "def timeseries_evaluation_metrics_func(y_true, y_pred):\n",
    "    \"\"\"\n",
    "    Function to calculate evaluation metrics.\n",
    "    \"\"\"\n",
    "    return np.mean(np.abs((y_true - y_pred) / y_true)) * 100\n",
    "\n",
    "# Print evaluation metrics for each column\n",
    "for i in ['Open', 'High', 'Low', 'Close']:\n",
    "    print(f'Evaluation metric for {i}')\n",
    "    timeseries_evaluation_metrics_func(test[str(i)], res[str(i)+'_1st_inv_diff'])\n",
    "\n",
    "    # Calculate and print additional metrics\n",
    "    print('Evaluation metric results:-')\n",
    "    \n",
    "    print(f'MSE is : {metrics.mean_squared_error(test[str(i)], res[str(i)+\"_1st_inv_diff\"])}')\n",
    "    \n",
    "    print(f'MAE is : {metrics.mean_absolute_error(test[str(i)], res[str(i)+\"_1st_inv_diff\"])}')\n",
    "    \n",
    "    print(f'RMSE is : {np.sqrt(metrics.mean_squared_error(test[str(i)], res[str(i)+\"_1st_inv_diff\"]))}')\n",
    "    \n",
    "    # Calculate MAPE\n",
    "    mape = np.mean(np.abs((test[str(i)] - res[str(i)+'_1st_inv_diff']) / test[str(i)])) * 100\n",
    "    print(f'MAPE is : {mape}%')"
   ]
  },
  {
   "cell_type": "code",
   "execution_count": 108,
   "id": "8265c733",
   "metadata": {},
   "outputs": [
    {
     "data": {
      "image/png": "[encoded data removed]",
      "text/plain": [
       "<Figure size 1000x700 with 1 Axes>"
      ]
     },
     "metadata": {},
     "output_type": "display_data"
    },
    {
     "data": {
      "image/png": "[encoded data removed]",
      "text/plain": [
       "<Figure size 1000x700 with 1 Axes>"
      ]
     },
     "metadata": {},
     "output_type": "display_data"
    },
    {
     "data": {
      "image/png": "[encoded data removed]",
      "text/plain": [
       "<Figure size 1000x700 with 1 Axes>"
      ]
     },
     "metadata": {},
     "output_type": "display_data"
    },
    {
     "data": {
      "image/png": "[encoded data removed]",
      "text/plain": [
       "<Figure size 1000x700 with 1 Axes>"
      ]
     },
     "metadata": {},
     "output_type": "display_data"
    }
   ],
   "source": [
    "import matplotlib.pyplot as plt\n",
    "%matplotlib inline\n",
    "for i in ['Open', 'High', 'Low', 'Close' ]:\n",
    "    \n",
    "    plt.rcParams[\"figure.figsize\"] = [10,7]\n",
    "    plt.plot( train[str(i)], label='Train '+str(i))\n",
    "    plt.plot(test[str(i)], label='Test '+str(i))\n",
    "    plt.plot(res[str(i)+'_1st_inv_diff'], label='Predicted '+str(i))\n",
    "    plt.legend(loc='best')\n",
    "    plt.show()"
   ]
  },
  {
   "cell_type": "code",
   "execution_count": null,
   "id": "cb0de8cb",
   "metadata": {},
   "outputs": [],
   "source": []
  },
  {
   "cell_type": "code",
   "execution_count": null,
   "id": "81be60be",
   "metadata": {},
   "outputs": [],
   "source": []
  }
 ],
 "metadata": {
  "kernelspec": {
   "display_name": "Python 3 (ipykernel)",
   "language": "python",
   "name": "python3"
  },
  "language_info": {
   "codemirror_mode": {
    "name": "ipython",
    "version": 3
   },
   "file_extension": ".py",
   "mimetype": "text/x-python",
   "name": "python",
   "nbconvert_exporter": "python",
   "pygments_lexer": "ipython3",
   "version": "3.11.5"
  }
 },
 "nbformat": 4,
 "nbformat_minor": 5
}
